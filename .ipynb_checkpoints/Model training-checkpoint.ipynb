{
 "cells": [
  {
   "cell_type": "code",
   "execution_count": 1,
   "id": "33d36056",
   "metadata": {},
   "outputs": [],
   "source": [
    "import torch\n",
    "import torch.nn as nn\n",
    "import torch.nn.functional as F\n",
    "from torchsummary import summary\n",
    "\n",
    "import pandas as pd\n",
    "from sklearn.preprocessing import StandardScaler\n",
    "from torch.utils.data import Dataset, DataLoader\n",
    "from sklearn.metrics import accuracy_score\n",
    "from torch.optim import lr_scheduler\n",
    "import matplotlib.pyplot as plt\n",
    "\n",
    "from tqdm import tqdm\n",
    "from enum import Enum\n",
    "import math\n",
    "import numpy as np\n",
    "\n",
    "from sklearn.model_selection import train_test_split"
   ]
  },
  {
   "cell_type": "code",
   "execution_count": 2,
   "id": "6643f91c",
   "metadata": {},
   "outputs": [],
   "source": [
    "torch.cuda.empty_cache()"
   ]
  },
  {
   "cell_type": "code",
   "execution_count": 3,
   "id": "40ac5d58",
   "metadata": {},
   "outputs": [
    {
     "data": {
      "text/plain": [
       "'2.2.0.dev20230913+cu121'"
      ]
     },
     "execution_count": 3,
     "metadata": {},
     "output_type": "execute_result"
    }
   ],
   "source": [
    "torch.__version__"
   ]
  },
  {
   "cell_type": "code",
   "execution_count": 4,
   "id": "c62ca57e",
   "metadata": {},
   "outputs": [],
   "source": [
    "# class syntax\n",
    "class Channel(Enum):\n",
    "    MIXTURE = 0\n",
    "    DRUMS = 1\n",
    "    BASS = 2\n",
    "    OTHER = 3\n",
    "    VOCALS = 4"
   ]
  },
  {
   "cell_type": "code",
   "execution_count": 5,
   "id": "b81e11ec",
   "metadata": {},
   "outputs": [],
   "source": [
    "# Check if a GPU is available\n",
    "device = torch.device(\"cuda\" if torch.cuda.is_available() else \"cpu\")"
   ]
  },
  {
   "cell_type": "code",
   "execution_count": 6,
   "id": "29506b25",
   "metadata": {},
   "outputs": [],
   "source": [
    "num_epochs = 100"
   ]
  },
  {
   "cell_type": "code",
   "execution_count": 7,
   "id": "68c53504",
   "metadata": {},
   "outputs": [],
   "source": [
    "#device = torch.device('cpu')"
   ]
  },
  {
   "cell_type": "code",
   "execution_count": 8,
   "id": "29755541",
   "metadata": {},
   "outputs": [],
   "source": [
    "#torch.cuda.set_per_process_memory_fraction(0.5)"
   ]
  },
  {
   "cell_type": "code",
   "execution_count": 9,
   "id": "cdc12a8f",
   "metadata": {},
   "outputs": [],
   "source": [
    "def save_ckp(state, checkpoint_dir):\n",
    "    torch.save(state, checkpoint_dir)\n",
    "    print('Model saved!')"
   ]
  },
  {
   "cell_type": "code",
   "execution_count": 10,
   "id": "bb622da3",
   "metadata": {},
   "outputs": [],
   "source": [
    "def load_ckp(checkpoint_fpath, model, optimizer):\n",
    "    checkpoint = torch.load(checkpoint_fpath)\n",
    "    model.load_state_dict(checkpoint['state_dict'])\n",
    "    optimizer.load_state_dict(checkpoint['optimizer'])\n",
    "    return model, optimizer, checkpoint['epoch']"
   ]
  },
  {
   "cell_type": "code",
   "execution_count": 11,
   "id": "004f5bbd",
   "metadata": {},
   "outputs": [],
   "source": [
    "def save_history(train_acc_hist, train_loss_hist, valid_acc_hist, valid_loss_hist, path):\n",
    "    df = pd.DataFrame({'train_acc_hist': train_acc_hist,\n",
    "                       'train_loss_hist': train_loss_hist,\n",
    "                       'valid_acc_hist': valid_acc_hist,\n",
    "                       'valid_loss_hist': valid_loss_hist})\n",
    "    df.to_csv(path+'history.csv', index_label=False)\n",
    "    torch.cuda.empty_cache()"
   ]
  },
  {
   "cell_type": "code",
   "execution_count": 12,
   "id": "a03a9199",
   "metadata": {},
   "outputs": [],
   "source": [
    "def plot_history(train_acc_hist, train_loss_hist, valid_acc_hist, valid_loss_hist, path):\n",
    "    plt.plot(range(len(train_acc_hist)), train_acc_hist, \"-b\", label=\"train_acc\")\n",
    "    plt.plot(range(len(valid_acc_hist)), valid_acc_hist, \"-r\", label=\"valid_acc\")\n",
    "    plt.title('Accuracy')\n",
    "    plt.legend(loc=\"upper left\")\n",
    "    plt.savefig(path+'accuracy.png', bbox_inches='tight')\n",
    "    plt.show(valid_acc_hist)\n",
    "    torch.cuda.empty_cache()\n",
    "\n",
    "    plt.plot(range(len(train_loss_hist)), train_loss_hist, \"-b\", label=\"train_loss\")\n",
    "    plt.plot(range(len(valid_loss_hist)), valid_loss_hist, \"-r\", label=\"valid_loss\")\n",
    "    plt.title('Loss')\n",
    "    plt.legend(loc=\"upper left\")\n",
    "    plt.savefig(path+'loss.png', bbox_inches='tight')\n",
    "    plt.show()\n",
    "    torch.cuda.empty_cache()"
   ]
  },
  {
   "cell_type": "code",
   "execution_count": 13,
   "id": "204a0743",
   "metadata": {},
   "outputs": [],
   "source": [
    "def get_history(path):\n",
    "    try:\n",
    "        df = pd.read_csv(path)\n",
    "        if not df.empty:\n",
    "            return df['train_acc_hist'].to_numpy().tolist(), df['train_loss_hist'].to_numpy().tolist(), df['valid_acc_hist'].to_numpy().tolist(), df['valid_loss_hist'].to_numpy().tolist()\n",
    "        else:\n",
    "            return [0.0], [1.0], [0.0], [1.0]\n",
    "    except Exception as e:\n",
    "        print(f\"An exception occurred: {str(e)}\")\n",
    "        return [0.0], [1.0], [0.0], [1.0]"
   ]
  },
  {
   "cell_type": "markdown",
   "id": "2079a0e4",
   "metadata": {},
   "source": [
    "## Sound detection"
   ]
  },
  {
   "cell_type": "code",
   "execution_count": 14,
   "id": "289b9177",
   "metadata": {},
   "outputs": [],
   "source": [
    "class CustomClassificationDataset(Dataset):\n",
    "    def __init__(self, data, X_column, Y_column):\n",
    "        self.X_column = X_column\n",
    "        self.Y_column = Y_column\n",
    "        self.data = data\n",
    "        \n",
    "    def __len__(self):\n",
    "        torch.cuda.empty_cache()\n",
    "        return len(self.data)\n",
    "    \n",
    "    def __getitem__(self, idx):\n",
    "        frame = pd.read_pickle(self.data.iloc[idx]['path'])\n",
    "        X = torch.FloatTensor(frame[self.X_column])\n",
    "        Y = torch.FloatTensor(frame[self.Y_column])   \n",
    "        \n",
    "        X_dev = X.to(device)\n",
    "        Y_dev = (torch.sum(Y) > 30).to(device)\n",
    "        torch.cuda.empty_cache()\n",
    "        return X_dev, Y_dev"
   ]
  },
  {
   "cell_type": "code",
   "execution_count": 15,
   "id": "92206184",
   "metadata": {
    "scrolled": true
   },
   "outputs": [
    {
     "data": {
      "text/html": [
       "<div>\n",
       "<style scoped>\n",
       "    .dataframe tbody tr th:only-of-type {\n",
       "        vertical-align: middle;\n",
       "    }\n",
       "\n",
       "    .dataframe tbody tr th {\n",
       "        vertical-align: top;\n",
       "    }\n",
       "\n",
       "    .dataframe thead th {\n",
       "        text-align: right;\n",
       "    }\n",
       "</style>\n",
       "<table border=\"1\" class=\"dataframe\">\n",
       "  <thead>\n",
       "    <tr style=\"text-align: right;\">\n",
       "      <th></th>\n",
       "      <th>index</th>\n",
       "      <th>song</th>\n",
       "      <th>path</th>\n",
       "    </tr>\n",
       "  </thead>\n",
       "  <tbody>\n",
       "    <tr>\n",
       "      <th>0</th>\n",
       "      <td>0</td>\n",
       "      <td>0</td>\n",
       "      <td>../musdb18_data/train/frames/0_0_frame.pkl</td>\n",
       "    </tr>\n",
       "    <tr>\n",
       "      <th>1</th>\n",
       "      <td>1</td>\n",
       "      <td>0</td>\n",
       "      <td>../musdb18_data/train/frames/1_0_frame.pkl</td>\n",
       "    </tr>\n",
       "    <tr>\n",
       "      <th>2</th>\n",
       "      <td>2</td>\n",
       "      <td>0</td>\n",
       "      <td>../musdb18_data/train/frames/2_0_frame.pkl</td>\n",
       "    </tr>\n",
       "    <tr>\n",
       "      <th>3</th>\n",
       "      <td>3</td>\n",
       "      <td>0</td>\n",
       "      <td>../musdb18_data/train/frames/3_0_frame.pkl</td>\n",
       "    </tr>\n",
       "    <tr>\n",
       "      <th>4</th>\n",
       "      <td>4</td>\n",
       "      <td>0</td>\n",
       "      <td>../musdb18_data/train/frames/4_0_frame.pkl</td>\n",
       "    </tr>\n",
       "  </tbody>\n",
       "</table>\n",
       "</div>"
      ],
      "text/plain": [
       "   index  song                                        path\n",
       "0      0     0  ../musdb18_data/train/frames/0_0_frame.pkl\n",
       "1      1     0  ../musdb18_data/train/frames/1_0_frame.pkl\n",
       "2      2     0  ../musdb18_data/train/frames/2_0_frame.pkl\n",
       "3      3     0  ../musdb18_data/train/frames/3_0_frame.pkl\n",
       "4      4     0  ../musdb18_data/train/frames/4_0_frame.pkl"
      ]
     },
     "execution_count": 15,
     "metadata": {},
     "output_type": "execute_result"
    }
   ],
   "source": [
    "data = pd.read_csv('../musdb18_data/train/frames.csv')\n",
    "data.head()"
   ]
  },
  {
   "cell_type": "code",
   "execution_count": 16,
   "id": "1776dbff",
   "metadata": {
    "scrolled": true
   },
   "outputs": [
    {
     "data": {
      "text/html": [
       "<div>\n",
       "<style scoped>\n",
       "    .dataframe tbody tr th:only-of-type {\n",
       "        vertical-align: middle;\n",
       "    }\n",
       "\n",
       "    .dataframe tbody tr th {\n",
       "        vertical-align: top;\n",
       "    }\n",
       "\n",
       "    .dataframe thead th {\n",
       "        text-align: right;\n",
       "    }\n",
       "</style>\n",
       "<table border=\"1\" class=\"dataframe\">\n",
       "  <thead>\n",
       "    <tr style=\"text-align: right;\">\n",
       "      <th></th>\n",
       "      <th>index</th>\n",
       "      <th>song</th>\n",
       "      <th>path</th>\n",
       "    </tr>\n",
       "  </thead>\n",
       "  <tbody>\n",
       "    <tr>\n",
       "      <th>0</th>\n",
       "      <td>0</td>\n",
       "      <td>0</td>\n",
       "      <td>../musdb18_data/test/frames/0_0_frame.pkl</td>\n",
       "    </tr>\n",
       "    <tr>\n",
       "      <th>1</th>\n",
       "      <td>1</td>\n",
       "      <td>0</td>\n",
       "      <td>../musdb18_data/test/frames/1_0_frame.pkl</td>\n",
       "    </tr>\n",
       "    <tr>\n",
       "      <th>2</th>\n",
       "      <td>2</td>\n",
       "      <td>0</td>\n",
       "      <td>../musdb18_data/test/frames/2_0_frame.pkl</td>\n",
       "    </tr>\n",
       "    <tr>\n",
       "      <th>3</th>\n",
       "      <td>3</td>\n",
       "      <td>0</td>\n",
       "      <td>../musdb18_data/test/frames/3_0_frame.pkl</td>\n",
       "    </tr>\n",
       "    <tr>\n",
       "      <th>4</th>\n",
       "      <td>4</td>\n",
       "      <td>0</td>\n",
       "      <td>../musdb18_data/test/frames/4_0_frame.pkl</td>\n",
       "    </tr>\n",
       "  </tbody>\n",
       "</table>\n",
       "</div>"
      ],
      "text/plain": [
       "   index  song                                       path\n",
       "0      0     0  ../musdb18_data/test/frames/0_0_frame.pkl\n",
       "1      1     0  ../musdb18_data/test/frames/1_0_frame.pkl\n",
       "2      2     0  ../musdb18_data/test/frames/2_0_frame.pkl\n",
       "3      3     0  ../musdb18_data/test/frames/3_0_frame.pkl\n",
       "4      4     0  ../musdb18_data/test/frames/4_0_frame.pkl"
      ]
     },
     "execution_count": 16,
     "metadata": {},
     "output_type": "execute_result"
    }
   ],
   "source": [
    "test_data = pd.read_csv('../musdb18_data/test/frames.csv')\n",
    "test_data.head()"
   ]
  },
  {
   "cell_type": "code",
   "execution_count": 17,
   "id": "672ba691",
   "metadata": {},
   "outputs": [
    {
     "name": "stdout",
     "output_type": "stream",
     "text": [
      "<class 'pandas.core.frame.DataFrame'>\n",
      "Index: 486419 entries, 0 to 486418\n",
      "Data columns (total 3 columns):\n",
      " #   Column  Non-Null Count   Dtype \n",
      "---  ------  --------------   ----- \n",
      " 0   index   486419 non-null  int64 \n",
      " 1   song    486419 non-null  int64 \n",
      " 2   path    486419 non-null  object\n",
      "dtypes: int64(2), object(1)\n",
      "memory usage: 59.7 MB\n"
     ]
    }
   ],
   "source": [
    "data.info(memory_usage = \"deep\")"
   ]
  },
  {
   "cell_type": "code",
   "execution_count": 18,
   "id": "8adb7895",
   "metadata": {},
   "outputs": [],
   "source": [
    "test, validation = train_test_split(test_data, test_size=0.4, random_state=47)"
   ]
  },
  {
   "cell_type": "code",
   "execution_count": 19,
   "id": "0f01ea1d",
   "metadata": {},
   "outputs": [],
   "source": [
    "train = data.sample(frac=1, random_state=47).reset_index(drop=True)"
   ]
  },
  {
   "cell_type": "code",
   "execution_count": 20,
   "id": "f8552b06",
   "metadata": {},
   "outputs": [],
   "source": [
    "test.reset_index(drop=True, inplace=True)\n",
    "validation.reset_index(drop=True, inplace=True)"
   ]
  },
  {
   "cell_type": "code",
   "execution_count": 21,
   "id": "0b6f5b98",
   "metadata": {},
   "outputs": [
    {
     "data": {
      "text/html": [
       "<div>\n",
       "<style scoped>\n",
       "    .dataframe tbody tr th:only-of-type {\n",
       "        vertical-align: middle;\n",
       "    }\n",
       "\n",
       "    .dataframe tbody tr th {\n",
       "        vertical-align: top;\n",
       "    }\n",
       "\n",
       "    .dataframe thead th {\n",
       "        text-align: right;\n",
       "    }\n",
       "</style>\n",
       "<table border=\"1\" class=\"dataframe\">\n",
       "  <thead>\n",
       "    <tr style=\"text-align: right;\">\n",
       "      <th></th>\n",
       "      <th>index</th>\n",
       "      <th>song</th>\n",
       "      <th>path</th>\n",
       "    </tr>\n",
       "  </thead>\n",
       "  <tbody>\n",
       "    <tr>\n",
       "      <th>0</th>\n",
       "      <td>253660</td>\n",
       "      <td>49</td>\n",
       "      <td>../musdb18_data/test/frames/253660_49_frame.pkl</td>\n",
       "    </tr>\n",
       "    <tr>\n",
       "      <th>1</th>\n",
       "      <td>242883</td>\n",
       "      <td>46</td>\n",
       "      <td>../musdb18_data/test/frames/242883_46_frame.pkl</td>\n",
       "    </tr>\n",
       "    <tr>\n",
       "      <th>2</th>\n",
       "      <td>106149</td>\n",
       "      <td>20</td>\n",
       "      <td>../musdb18_data/test/frames/106149_20_frame.pkl</td>\n",
       "    </tr>\n",
       "    <tr>\n",
       "      <th>3</th>\n",
       "      <td>136598</td>\n",
       "      <td>26</td>\n",
       "      <td>../musdb18_data/test/frames/136598_26_frame.pkl</td>\n",
       "    </tr>\n",
       "    <tr>\n",
       "      <th>4</th>\n",
       "      <td>93974</td>\n",
       "      <td>18</td>\n",
       "      <td>../musdb18_data/test/frames/93974_18_frame.pkl</td>\n",
       "    </tr>\n",
       "    <tr>\n",
       "      <th>...</th>\n",
       "      <td>...</td>\n",
       "      <td>...</td>\n",
       "      <td>...</td>\n",
       "    </tr>\n",
       "    <tr>\n",
       "      <th>155035</th>\n",
       "      <td>154184</td>\n",
       "      <td>29</td>\n",
       "      <td>../musdb18_data/test/frames/154184_29_frame.pkl</td>\n",
       "    </tr>\n",
       "    <tr>\n",
       "      <th>155036</th>\n",
       "      <td>11528</td>\n",
       "      <td>2</td>\n",
       "      <td>../musdb18_data/test/frames/11528_2_frame.pkl</td>\n",
       "    </tr>\n",
       "    <tr>\n",
       "      <th>155037</th>\n",
       "      <td>244039</td>\n",
       "      <td>47</td>\n",
       "      <td>../musdb18_data/test/frames/244039_47_frame.pkl</td>\n",
       "    </tr>\n",
       "    <tr>\n",
       "      <th>155038</th>\n",
       "      <td>51078</td>\n",
       "      <td>9</td>\n",
       "      <td>../musdb18_data/test/frames/51078_9_frame.pkl</td>\n",
       "    </tr>\n",
       "    <tr>\n",
       "      <th>155039</th>\n",
       "      <td>103559</td>\n",
       "      <td>20</td>\n",
       "      <td>../musdb18_data/test/frames/103559_20_frame.pkl</td>\n",
       "    </tr>\n",
       "  </tbody>\n",
       "</table>\n",
       "<p>155040 rows × 3 columns</p>\n",
       "</div>"
      ],
      "text/plain": [
       "         index  song                                             path\n",
       "0       253660    49  ../musdb18_data/test/frames/253660_49_frame.pkl\n",
       "1       242883    46  ../musdb18_data/test/frames/242883_46_frame.pkl\n",
       "2       106149    20  ../musdb18_data/test/frames/106149_20_frame.pkl\n",
       "3       136598    26  ../musdb18_data/test/frames/136598_26_frame.pkl\n",
       "4        93974    18   ../musdb18_data/test/frames/93974_18_frame.pkl\n",
       "...        ...   ...                                              ...\n",
       "155035  154184    29  ../musdb18_data/test/frames/154184_29_frame.pkl\n",
       "155036   11528     2    ../musdb18_data/test/frames/11528_2_frame.pkl\n",
       "155037  244039    47  ../musdb18_data/test/frames/244039_47_frame.pkl\n",
       "155038   51078     9    ../musdb18_data/test/frames/51078_9_frame.pkl\n",
       "155039  103559    20  ../musdb18_data/test/frames/103559_20_frame.pkl\n",
       "\n",
       "[155040 rows x 3 columns]"
      ]
     },
     "execution_count": 21,
     "metadata": {},
     "output_type": "execute_result"
    }
   ],
   "source": [
    "test"
   ]
  },
  {
   "cell_type": "code",
   "execution_count": 22,
   "id": "00bfee62",
   "metadata": {},
   "outputs": [
    {
     "data": {
      "text/html": [
       "<div>\n",
       "<style scoped>\n",
       "    .dataframe tbody tr th:only-of-type {\n",
       "        vertical-align: middle;\n",
       "    }\n",
       "\n",
       "    .dataframe tbody tr th {\n",
       "        vertical-align: top;\n",
       "    }\n",
       "\n",
       "    .dataframe thead th {\n",
       "        text-align: right;\n",
       "    }\n",
       "</style>\n",
       "<table border=\"1\" class=\"dataframe\">\n",
       "  <thead>\n",
       "    <tr style=\"text-align: right;\">\n",
       "      <th></th>\n",
       "      <th>index</th>\n",
       "      <th>song</th>\n",
       "      <th>path</th>\n",
       "    </tr>\n",
       "  </thead>\n",
       "  <tbody>\n",
       "    <tr>\n",
       "      <th>0</th>\n",
       "      <td>11312</td>\n",
       "      <td>2</td>\n",
       "      <td>../musdb18_data/train/frames/11312_2_frame.pkl</td>\n",
       "    </tr>\n",
       "    <tr>\n",
       "      <th>1</th>\n",
       "      <td>146996</td>\n",
       "      <td>28</td>\n",
       "      <td>../musdb18_data/train/frames/146996_28_frame.pkl</td>\n",
       "    </tr>\n",
       "    <tr>\n",
       "      <th>2</th>\n",
       "      <td>482083</td>\n",
       "      <td>99</td>\n",
       "      <td>../musdb18_data/train/frames/482083_99_frame.pkl</td>\n",
       "    </tr>\n",
       "    <tr>\n",
       "      <th>3</th>\n",
       "      <td>479955</td>\n",
       "      <td>98</td>\n",
       "      <td>../musdb18_data/train/frames/479955_98_frame.pkl</td>\n",
       "    </tr>\n",
       "    <tr>\n",
       "      <th>4</th>\n",
       "      <td>278678</td>\n",
       "      <td>53</td>\n",
       "      <td>../musdb18_data/train/frames/278678_53_frame.pkl</td>\n",
       "    </tr>\n",
       "    <tr>\n",
       "      <th>...</th>\n",
       "      <td>...</td>\n",
       "      <td>...</td>\n",
       "      <td>...</td>\n",
       "    </tr>\n",
       "    <tr>\n",
       "      <th>486414</th>\n",
       "      <td>287411</td>\n",
       "      <td>56</td>\n",
       "      <td>../musdb18_data/train/frames/287411_56_frame.pkl</td>\n",
       "    </tr>\n",
       "    <tr>\n",
       "      <th>486415</th>\n",
       "      <td>416328</td>\n",
       "      <td>86</td>\n",
       "      <td>../musdb18_data/train/frames/416328_86_frame.pkl</td>\n",
       "    </tr>\n",
       "    <tr>\n",
       "      <th>486416</th>\n",
       "      <td>11528</td>\n",
       "      <td>2</td>\n",
       "      <td>../musdb18_data/train/frames/11528_2_frame.pkl</td>\n",
       "    </tr>\n",
       "    <tr>\n",
       "      <th>486417</th>\n",
       "      <td>313222</td>\n",
       "      <td>65</td>\n",
       "      <td>../musdb18_data/train/frames/313222_65_frame.pkl</td>\n",
       "    </tr>\n",
       "    <tr>\n",
       "      <th>486418</th>\n",
       "      <td>365703</td>\n",
       "      <td>76</td>\n",
       "      <td>../musdb18_data/train/frames/365703_76_frame.pkl</td>\n",
       "    </tr>\n",
       "  </tbody>\n",
       "</table>\n",
       "<p>486419 rows × 3 columns</p>\n",
       "</div>"
      ],
      "text/plain": [
       "         index  song                                              path\n",
       "0        11312     2    ../musdb18_data/train/frames/11312_2_frame.pkl\n",
       "1       146996    28  ../musdb18_data/train/frames/146996_28_frame.pkl\n",
       "2       482083    99  ../musdb18_data/train/frames/482083_99_frame.pkl\n",
       "3       479955    98  ../musdb18_data/train/frames/479955_98_frame.pkl\n",
       "4       278678    53  ../musdb18_data/train/frames/278678_53_frame.pkl\n",
       "...        ...   ...                                               ...\n",
       "486414  287411    56  ../musdb18_data/train/frames/287411_56_frame.pkl\n",
       "486415  416328    86  ../musdb18_data/train/frames/416328_86_frame.pkl\n",
       "486416   11528     2    ../musdb18_data/train/frames/11528_2_frame.pkl\n",
       "486417  313222    65  ../musdb18_data/train/frames/313222_65_frame.pkl\n",
       "486418  365703    76  ../musdb18_data/train/frames/365703_76_frame.pkl\n",
       "\n",
       "[486419 rows x 3 columns]"
      ]
     },
     "execution_count": 22,
     "metadata": {},
     "output_type": "execute_result"
    }
   ],
   "source": [
    "train"
   ]
  },
  {
   "cell_type": "code",
   "execution_count": 23,
   "id": "80f0e038",
   "metadata": {},
   "outputs": [
    {
     "data": {
      "text/html": [
       "<div>\n",
       "<style scoped>\n",
       "    .dataframe tbody tr th:only-of-type {\n",
       "        vertical-align: middle;\n",
       "    }\n",
       "\n",
       "    .dataframe tbody tr th {\n",
       "        vertical-align: top;\n",
       "    }\n",
       "\n",
       "    .dataframe thead th {\n",
       "        text-align: right;\n",
       "    }\n",
       "</style>\n",
       "<table border=\"1\" class=\"dataframe\">\n",
       "  <thead>\n",
       "    <tr style=\"text-align: right;\">\n",
       "      <th></th>\n",
       "      <th>index</th>\n",
       "      <th>song</th>\n",
       "      <th>path</th>\n",
       "    </tr>\n",
       "  </thead>\n",
       "  <tbody>\n",
       "    <tr>\n",
       "      <th>0</th>\n",
       "      <td>123670</td>\n",
       "      <td>23</td>\n",
       "      <td>../musdb18_data/test/frames/123670_23_frame.pkl</td>\n",
       "    </tr>\n",
       "    <tr>\n",
       "      <th>1</th>\n",
       "      <td>24868</td>\n",
       "      <td>4</td>\n",
       "      <td>../musdb18_data/test/frames/24868_4_frame.pkl</td>\n",
       "    </tr>\n",
       "    <tr>\n",
       "      <th>2</th>\n",
       "      <td>50100</td>\n",
       "      <td>9</td>\n",
       "      <td>../musdb18_data/test/frames/50100_9_frame.pkl</td>\n",
       "    </tr>\n",
       "    <tr>\n",
       "      <th>3</th>\n",
       "      <td>121311</td>\n",
       "      <td>23</td>\n",
       "      <td>../musdb18_data/test/frames/121311_23_frame.pkl</td>\n",
       "    </tr>\n",
       "    <tr>\n",
       "      <th>4</th>\n",
       "      <td>177215</td>\n",
       "      <td>34</td>\n",
       "      <td>../musdb18_data/test/frames/177215_34_frame.pkl</td>\n",
       "    </tr>\n",
       "    <tr>\n",
       "      <th>...</th>\n",
       "      <td>...</td>\n",
       "      <td>...</td>\n",
       "      <td>...</td>\n",
       "    </tr>\n",
       "    <tr>\n",
       "      <th>103355</th>\n",
       "      <td>186214</td>\n",
       "      <td>36</td>\n",
       "      <td>../musdb18_data/test/frames/186214_36_frame.pkl</td>\n",
       "    </tr>\n",
       "    <tr>\n",
       "      <th>103356</th>\n",
       "      <td>147827</td>\n",
       "      <td>28</td>\n",
       "      <td>../musdb18_data/test/frames/147827_28_frame.pkl</td>\n",
       "    </tr>\n",
       "    <tr>\n",
       "      <th>103357</th>\n",
       "      <td>152046</td>\n",
       "      <td>29</td>\n",
       "      <td>../musdb18_data/test/frames/152046_29_frame.pkl</td>\n",
       "    </tr>\n",
       "    <tr>\n",
       "      <th>103358</th>\n",
       "      <td>137307</td>\n",
       "      <td>26</td>\n",
       "      <td>../musdb18_data/test/frames/137307_26_frame.pkl</td>\n",
       "    </tr>\n",
       "    <tr>\n",
       "      <th>103359</th>\n",
       "      <td>90963</td>\n",
       "      <td>17</td>\n",
       "      <td>../musdb18_data/test/frames/90963_17_frame.pkl</td>\n",
       "    </tr>\n",
       "  </tbody>\n",
       "</table>\n",
       "<p>103360 rows × 3 columns</p>\n",
       "</div>"
      ],
      "text/plain": [
       "         index  song                                             path\n",
       "0       123670    23  ../musdb18_data/test/frames/123670_23_frame.pkl\n",
       "1        24868     4    ../musdb18_data/test/frames/24868_4_frame.pkl\n",
       "2        50100     9    ../musdb18_data/test/frames/50100_9_frame.pkl\n",
       "3       121311    23  ../musdb18_data/test/frames/121311_23_frame.pkl\n",
       "4       177215    34  ../musdb18_data/test/frames/177215_34_frame.pkl\n",
       "...        ...   ...                                              ...\n",
       "103355  186214    36  ../musdb18_data/test/frames/186214_36_frame.pkl\n",
       "103356  147827    28  ../musdb18_data/test/frames/147827_28_frame.pkl\n",
       "103357  152046    29  ../musdb18_data/test/frames/152046_29_frame.pkl\n",
       "103358  137307    26  ../musdb18_data/test/frames/137307_26_frame.pkl\n",
       "103359   90963    17   ../musdb18_data/test/frames/90963_17_frame.pkl\n",
       "\n",
       "[103360 rows x 3 columns]"
      ]
     },
     "execution_count": 23,
     "metadata": {},
     "output_type": "execute_result"
    }
   ],
   "source": [
    "validation"
   ]
  },
  {
   "cell_type": "code",
   "execution_count": 24,
   "id": "2566ca08",
   "metadata": {},
   "outputs": [],
   "source": [
    "# Create an instance of your custom dataset\n",
    "train_dataset = CustomClassificationDataset(train, 'MIXTURE_STFT_SPEC_FRAME', 'VOCALS_STFT_MASK')\n",
    "val_dataset = CustomClassificationDataset(validation, 'MIXTURE_STFT_SPEC_FRAME', 'VOCALS_STFT_MASK')\n",
    "test_dataset = CustomClassificationDataset(test, 'MIXTURE_STFT_SPEC_FRAME', 'VOCALS_STFT_MASK')"
   ]
  },
  {
   "cell_type": "code",
   "execution_count": 25,
   "id": "fc37df4f",
   "metadata": {},
   "outputs": [],
   "source": [
    "train_dataloader = DataLoader(\n",
    "    train_dataset, batch_size=128, shuffle=False\n",
    ")\n",
    "\n",
    "val_dataloader = DataLoader(\n",
    "    val_dataset, batch_size=128, shuffle=False\n",
    ")\n",
    "\n",
    "test_dataloader = DataLoader(\n",
    "    test_dataset, batch_size=128, shuffle=False\n",
    ")\n",
    "#5168"
   ]
  },
  {
   "cell_type": "code",
   "execution_count": 26,
   "id": "1190cb2d",
   "metadata": {},
   "outputs": [],
   "source": [
    "class CustomClassificationCNN(nn.Module):\n",
    "    def __init__(self):\n",
    "        super(CustomClassificationCNN, self).__init__()\n",
    "        self.conv1 = nn.Conv2d(1, 32, kernel_size=(3, 3), padding='same')\n",
    "        self.relu1 = nn.LeakyReLU()\n",
    "        self.conv2 = nn.Conv2d(32, 16, kernel_size=(3, 3), padding='same')\n",
    "        self.relu2 = nn.LeakyReLU()\n",
    "        self.pool1 = nn.MaxPool2d(kernel_size=(3, 3))\n",
    "        self.dropout1 = nn.Dropout(0.25)\n",
    "        \n",
    "        self.conv3 = nn.Conv2d(16, 64, kernel_size=(3, 3), padding='same')\n",
    "        self.relu3 = nn.LeakyReLU()\n",
    "        self.conv4 = nn.Conv2d(64, 16, kernel_size=(3, 3), padding='same')\n",
    "        self.relu4 = nn.LeakyReLU()\n",
    "        self.pool2 = nn.MaxPool2d(kernel_size=(3, 3))\n",
    "        self.dropout2 = nn.Dropout(0.25)\n",
    "        \n",
    "        self.flatten = nn.Flatten()\n",
    "        self.fc1 = nn.Linear(16 * 57 * 2, 128)\n",
    "        self.relu5 = nn.LeakyReLU()\n",
    "        self.dropout3 = nn.Dropout(0.5)\n",
    "        \n",
    "        self.fc2 = nn.Linear(128, 1)\n",
    "        self.sigmoid = nn.Sigmoid()\n",
    "\n",
    "    def forward(self, x):\n",
    "        x = x.unsqueeze(1)\n",
    "        x = self.conv1(x)\n",
    "        x = self.relu1(x)\n",
    "        x = self.conv2(x)\n",
    "        x = self.relu2(x)\n",
    "        x = self.pool1(x)\n",
    "        x = self.dropout1(x)\n",
    "        \n",
    "        x = self.conv3(x)\n",
    "        x = self.relu3(x)\n",
    "        x = self.conv4(x)\n",
    "        x = self.relu4(x)\n",
    "        x = self.pool2(x)\n",
    "        x = self.dropout2(x)\n",
    "        \n",
    "        x = self.flatten(x)\n",
    "        x = self.fc1(x)\n",
    "        x = self.relu5(x)\n",
    "        x = self.dropout3(x)\n",
    "        \n",
    "        x = self.fc2(x)\n",
    "        x = self.sigmoid(x)\n",
    "        return x"
   ]
  },
  {
   "cell_type": "code",
   "execution_count": 25,
   "id": "f8e09c6a",
   "metadata": {},
   "outputs": [
    {
     "name": "stdout",
     "output_type": "stream",
     "text": [
      "=================================================================\n",
      "Layer (type:depth-idx)                   Param #\n",
      "=================================================================\n",
      "├─Conv2d: 1-1                            320\n",
      "├─LeakyReLU: 1-2                         --\n",
      "├─Conv2d: 1-3                            4,624\n",
      "├─LeakyReLU: 1-4                         --\n",
      "├─MaxPool2d: 1-5                         --\n",
      "├─Dropout: 1-6                           --\n",
      "├─Conv2d: 1-7                            9,280\n",
      "├─LeakyReLU: 1-8                         --\n",
      "├─Conv2d: 1-9                            9,232\n",
      "├─LeakyReLU: 1-10                        --\n",
      "├─MaxPool2d: 1-11                        --\n",
      "├─Dropout: 1-12                          --\n",
      "├─Flatten: 1-13                          --\n",
      "├─Linear: 1-14                           233,600\n",
      "├─LeakyReLU: 1-15                        --\n",
      "├─Dropout: 1-16                          --\n",
      "├─Linear: 1-17                           129\n",
      "├─Sigmoid: 1-18                          --\n",
      "=================================================================\n",
      "Total params: 257,185\n",
      "Trainable params: 257,185\n",
      "Non-trainable params: 0\n",
      "=================================================================\n"
     ]
    },
    {
     "data": {
      "text/plain": [
       "=================================================================\n",
       "Layer (type:depth-idx)                   Param #\n",
       "=================================================================\n",
       "├─Conv2d: 1-1                            320\n",
       "├─LeakyReLU: 1-2                         --\n",
       "├─Conv2d: 1-3                            4,624\n",
       "├─LeakyReLU: 1-4                         --\n",
       "├─MaxPool2d: 1-5                         --\n",
       "├─Dropout: 1-6                           --\n",
       "├─Conv2d: 1-7                            9,280\n",
       "├─LeakyReLU: 1-8                         --\n",
       "├─Conv2d: 1-9                            9,232\n",
       "├─LeakyReLU: 1-10                        --\n",
       "├─MaxPool2d: 1-11                        --\n",
       "├─Dropout: 1-12                          --\n",
       "├─Flatten: 1-13                          --\n",
       "├─Linear: 1-14                           233,600\n",
       "├─LeakyReLU: 1-15                        --\n",
       "├─Dropout: 1-16                          --\n",
       "├─Linear: 1-17                           129\n",
       "├─Sigmoid: 1-18                          --\n",
       "=================================================================\n",
       "Total params: 257,185\n",
       "Trainable params: 257,185\n",
       "Non-trainable params: 0\n",
       "================================================================="
      ]
     },
     "execution_count": 25,
     "metadata": {},
     "output_type": "execute_result"
    }
   ],
   "source": [
    "# Instantiate the model\n",
    "model = CustomClassificationCNN()\n",
    "summary(model, input_size=(None, 513, 25, 16))"
   ]
  },
  {
   "cell_type": "code",
   "execution_count": 26,
   "id": "e31a4495",
   "metadata": {},
   "outputs": [
    {
     "data": {
      "text/plain": [
       "CustomClassificationCNN(\n",
       "  (conv1): Conv2d(1, 32, kernel_size=(3, 3), stride=(1, 1), padding=same)\n",
       "  (relu1): LeakyReLU(negative_slope=0.01)\n",
       "  (conv2): Conv2d(32, 16, kernel_size=(3, 3), stride=(1, 1), padding=same)\n",
       "  (relu2): LeakyReLU(negative_slope=0.01)\n",
       "  (pool1): MaxPool2d(kernel_size=(3, 3), stride=(3, 3), padding=0, dilation=1, ceil_mode=False)\n",
       "  (dropout1): Dropout(p=0.25, inplace=False)\n",
       "  (conv3): Conv2d(16, 64, kernel_size=(3, 3), stride=(1, 1), padding=same)\n",
       "  (relu3): LeakyReLU(negative_slope=0.01)\n",
       "  (conv4): Conv2d(64, 16, kernel_size=(3, 3), stride=(1, 1), padding=same)\n",
       "  (relu4): LeakyReLU(negative_slope=0.01)\n",
       "  (pool2): MaxPool2d(kernel_size=(3, 3), stride=(3, 3), padding=0, dilation=1, ceil_mode=False)\n",
       "  (dropout2): Dropout(p=0.25, inplace=False)\n",
       "  (flatten): Flatten(start_dim=1, end_dim=-1)\n",
       "  (fc1): Linear(in_features=1824, out_features=128, bias=True)\n",
       "  (relu5): LeakyReLU(negative_slope=0.01)\n",
       "  (dropout3): Dropout(p=0.5, inplace=False)\n",
       "  (fc2): Linear(in_features=128, out_features=1, bias=True)\n",
       "  (sigmoid): Sigmoid()\n",
       ")"
      ]
     },
     "execution_count": 26,
     "metadata": {},
     "output_type": "execute_result"
    }
   ],
   "source": [
    "model.to(device)"
   ]
  },
  {
   "cell_type": "code",
   "execution_count": 33,
   "id": "5ddf954e",
   "metadata": {},
   "outputs": [],
   "source": [
    "# Define the loss and optimizer\n",
    "criterion_class = nn.BCELoss()\n",
    "optimizer_sgd = torch.optim.SGD(model.parameters(), lr=0.001, weight_decay=1e-6, momentum=0.99, nesterov=True)"
   ]
  },
  {
   "cell_type": "code",
   "execution_count": 34,
   "id": "97e7ba22",
   "metadata": {},
   "outputs": [
    {
     "data": {
      "text/plain": [
       "BCELoss()"
      ]
     },
     "execution_count": 34,
     "metadata": {},
     "output_type": "execute_result"
    }
   ],
   "source": [
    "criterion = criterion_class\n",
    "criterion.to(device)\n",
    "criterion"
   ]
  },
  {
   "cell_type": "code",
   "execution_count": 39,
   "id": "f28b3d71",
   "metadata": {},
   "outputs": [
    {
     "data": {
      "text/plain": [
       "SGD (\n",
       "Parameter Group 0\n",
       "    dampening: 0\n",
       "    differentiable: False\n",
       "    foreach: None\n",
       "    initial_lr: 0.005\n",
       "    lr: 0.005\n",
       "    maximize: False\n",
       "    momentum: 0.99\n",
       "    nesterov: True\n",
       "    weight_decay: 1e-06\n",
       ")"
      ]
     },
     "execution_count": 39,
     "metadata": {},
     "output_type": "execute_result"
    }
   ],
   "source": [
    "optimizer = optimizer_sgd\n",
    "optimizer"
   ]
  },
  {
   "cell_type": "code",
   "execution_count": 36,
   "id": "a8870c14",
   "metadata": {},
   "outputs": [],
   "source": [
    "model, optimizer, start_epoch = load_ckp('checkpoints/classification/16_checkpoint.pt', model, optimizer)"
   ]
  },
  {
   "cell_type": "code",
   "execution_count": 37,
   "id": "8f22f20b",
   "metadata": {},
   "outputs": [
    {
     "data": {
      "text/plain": [
       "CustomClassificationCNN(\n",
       "  (conv1): Conv2d(1, 32, kernel_size=(3, 3), stride=(1, 1), padding=same)\n",
       "  (relu1): LeakyReLU(negative_slope=0.01)\n",
       "  (conv2): Conv2d(32, 16, kernel_size=(3, 3), stride=(1, 1), padding=same)\n",
       "  (relu2): LeakyReLU(negative_slope=0.01)\n",
       "  (pool1): MaxPool2d(kernel_size=(3, 3), stride=(3, 3), padding=0, dilation=1, ceil_mode=False)\n",
       "  (dropout1): Dropout(p=0.25, inplace=False)\n",
       "  (conv3): Conv2d(16, 64, kernel_size=(3, 3), stride=(1, 1), padding=same)\n",
       "  (relu3): LeakyReLU(negative_slope=0.01)\n",
       "  (conv4): Conv2d(64, 16, kernel_size=(3, 3), stride=(1, 1), padding=same)\n",
       "  (relu4): LeakyReLU(negative_slope=0.01)\n",
       "  (pool2): MaxPool2d(kernel_size=(3, 3), stride=(3, 3), padding=0, dilation=1, ceil_mode=False)\n",
       "  (dropout2): Dropout(p=0.25, inplace=False)\n",
       "  (flatten): Flatten(start_dim=1, end_dim=-1)\n",
       "  (fc1): Linear(in_features=1824, out_features=128, bias=True)\n",
       "  (relu5): LeakyReLU(negative_slope=0.01)\n",
       "  (dropout3): Dropout(p=0.5, inplace=False)\n",
       "  (fc2): Linear(in_features=128, out_features=1, bias=True)\n",
       "  (sigmoid): Sigmoid()\n",
       ")"
      ]
     },
     "execution_count": 37,
     "metadata": {},
     "output_type": "execute_result"
    }
   ],
   "source": [
    "model.to(device)"
   ]
  },
  {
   "cell_type": "code",
   "execution_count": 38,
   "id": "4d80f9e1",
   "metadata": {},
   "outputs": [
    {
     "data": {
      "text/plain": [
       "SGD (\n",
       "Parameter Group 0\n",
       "    dampening: 0\n",
       "    differentiable: False\n",
       "    foreach: None\n",
       "    initial_lr: 0.005\n",
       "    lr: 0.005\n",
       "    maximize: False\n",
       "    momentum: 0.99\n",
       "    nesterov: True\n",
       "    weight_decay: 1e-06\n",
       ")"
      ]
     },
     "execution_count": 38,
     "metadata": {},
     "output_type": "execute_result"
    }
   ],
   "source": [
    "optimizer"
   ]
  },
  {
   "cell_type": "code",
   "execution_count": 33,
   "id": "0cb98395",
   "metadata": {},
   "outputs": [],
   "source": [
    "scheduler = torch.optim.lr_scheduler.CyclicLR(optimizer, \n",
    "                                     base_lr = 0.005, # Initial learning rate which is the lower boundary in the cycle for each parameter group\n",
    "                                     max_lr = 0.05, # Upper learning rate boundaries in the cycle for each parameter group\n",
    "                                     base_momentum = 0.9,\n",
    "                                     max_momentum = 0.99,\n",
    "                                     step_size_up = 4, # Number of training iterations in the increasing half of a cycle\n",
    "                                     last_epoch = start_epoch-2,\n",
    "                                     mode = \"triangular\")"
   ]
  },
  {
   "cell_type": "code",
   "execution_count": 40,
   "id": "e014ef8f",
   "metadata": {},
   "outputs": [],
   "source": [
    "train_acc_hist, train_loss_hist, valid_acc_hist, valid_loss_hist = get_history('checkpoints/classification/history.csv')"
   ]
  },
  {
   "cell_type": "code",
   "execution_count": 41,
   "id": "86823f31",
   "metadata": {},
   "outputs": [
    {
     "data": {
      "text/plain": [
       "[1.0,\n",
       " 0.4231443867915478,\n",
       " 0.3496757232213796,\n",
       " 0.311791371251556,\n",
       " 0.2867510327245502,\n",
       " 0.2707934684901988,\n",
       " 0.2567205287807672,\n",
       " 0.2465101685773107,\n",
       " 0.2412307561595398,\n",
       " 0.2361721282751985,\n",
       " 0.2321681175668825,\n",
       " 0.22758122773174,\n",
       " 0.2254115004424435,\n",
       " 0.2225670217022187,\n",
       " 0.2194196639122519,\n",
       " 0.217522794468373,\n",
       " 0.2149450400356045]"
      ]
     },
     "execution_count": 41,
     "metadata": {},
     "output_type": "execute_result"
    }
   ],
   "source": [
    "train_loss_hist"
   ]
  },
  {
   "cell_type": "code",
   "execution_count": 42,
   "id": "49ba183a",
   "metadata": {
    "scrolled": true
   },
   "outputs": [
    {
     "name": "stderr",
     "output_type": "stream",
     "text": [
      "Epoch 17: 100%|██████████| 3041/3041 [26:21<00:00,  1.92it/s, acc=0.933, loss=0.0848, running_train_loss=0.213]\n"
     ]
    },
    {
     "name": "stdout",
     "output_type": "stream",
     "text": [
      "accuracy:  0.9102625250816345\n",
      "loss:  0.2131863762819034\n"
     ]
    },
    {
     "name": "stderr",
     "output_type": "stream",
     "text": [
      "Validation: 100%|██████████| 761/761 [08:04<00:00,  1.57it/s, acc=0.75, loss=0.723] \n"
     ]
    },
    {
     "name": "stdout",
     "output_type": "stream",
     "text": [
      "accuracy:  0.9400004148483276\n",
      "loss:  0.1740799473008721\n"
     ]
    },
    {
     "name": "stderr",
     "output_type": "stream",
     "text": [
      "Epoch 18: 100%|██████████| 3041/3041 [33:13<00:00,  1.53it/s, acc=0.933, loss=0.0833, running_train_loss=0.213]\n"
     ]
    },
    {
     "name": "stdout",
     "output_type": "stream",
     "text": [
      "accuracy:  0.9108253121376038\n",
      "loss:  0.21295398569781307\n"
     ]
    },
    {
     "name": "stderr",
     "output_type": "stream",
     "text": [
      "Validation: 100%|██████████| 761/761 [08:07<00:00,  1.56it/s, acc=0.5, loss=0.413]   \n"
     ]
    },
    {
     "name": "stdout",
     "output_type": "stream",
     "text": [
      "accuracy:  0.9429813623428345\n",
      "loss:  0.15980722118810348\n",
      "Model saved!\n"
     ]
    },
    {
     "data": {
      "image/png": "[encoded data removed]",
      "text/plain": [
       "<Figure size 640x480 with 1 Axes>"
      ]
     },
     "metadata": {},
     "output_type": "display_data"
    },
    {
     "data": {
      "image/png": "[encoded data removed]",
      "text/plain": [
       "<Figure size 640x480 with 1 Axes>"
      ]
     },
     "metadata": {},
     "output_type": "display_data"
    },
    {
     "name": "stderr",
     "output_type": "stream",
     "text": [
      "Epoch 19: 100%|██████████| 3041/3041 [33:05<00:00,  1.53it/s, acc=1, loss=0.0303, running_train_loss=0.213]    \n"
     ]
    },
    {
     "name": "stdout",
     "output_type": "stream",
     "text": [
      "accuracy:  0.9110077619552612\n",
      "loss:  0.21253553350216872\n"
     ]
    },
    {
     "name": "stderr",
     "output_type": "stream",
     "text": [
      "Validation: 100%|██████████| 761/761 [08:05<00:00,  1.57it/s, acc=0.75, loss=0.366]  \n"
     ]
    },
    {
     "name": "stdout",
     "output_type": "stream",
     "text": [
      "accuracy:  0.9426113367080688\n",
      "loss:  0.15591654008188324\n"
     ]
    },
    {
     "name": "stderr",
     "output_type": "stream",
     "text": [
      "Epoch 20: 100%|██████████| 3041/3041 [33:21<00:00,  1.52it/s, acc=1, loss=0.0599, running_train_loss=0.212]    \n"
     ]
    },
    {
     "name": "stdout",
     "output_type": "stream",
     "text": [
      "accuracy:  0.9107224941253662\n",
      "loss:  0.21247289505435307\n"
     ]
    },
    {
     "name": "stderr",
     "output_type": "stream",
     "text": [
      "Validation: 100%|██████████| 761/761 [08:09<00:00,  1.56it/s, acc=0.5, loss=0.651]  \n"
     ]
    },
    {
     "name": "stdout",
     "output_type": "stream",
     "text": [
      "accuracy:  0.9405760765075684\n",
      "loss:  0.17297742858470347\n",
      "Model saved!\n"
     ]
    },
    {
     "data": {
      "image/png": "[encoded data removed]",
      "text/plain": [
       "<Figure size 640x480 with 1 Axes>"
      ]
     },
     "metadata": {},
     "output_type": "display_data"
    },
    {
     "data": {
      "image/png": "[encoded data removed]",
      "text/plain": [
       "<Figure size 640x480 with 1 Axes>"
      ]
     },
     "metadata": {},
     "output_type": "display_data"
    },
    {
     "name": "stderr",
     "output_type": "stream",
     "text": [
      "Epoch 21: 100%|██████████| 3041/3041 [33:11<00:00,  1.53it/s, acc=0.933, loss=0.11, running_train_loss=0.211]  \n"
     ]
    },
    {
     "name": "stdout",
     "output_type": "stream",
     "text": [
      "accuracy:  0.9118121266365051\n",
      "loss:  0.2112918569608685\n"
     ]
    },
    {
     "name": "stderr",
     "output_type": "stream",
     "text": [
      "Validation: 100%|██████████| 761/761 [08:07<00:00,  1.56it/s, acc=0.75, loss=0.291]  \n"
     ]
    },
    {
     "name": "stdout",
     "output_type": "stream",
     "text": [
      "accuracy:  0.9411311149597168\n",
      "loss:  0.16092651904255895\n"
     ]
    },
    {
     "name": "stderr",
     "output_type": "stream",
     "text": [
      "Epoch 22: 100%|██████████| 3041/3041 [33:19<00:00,  1.52it/s, acc=0.933, loss=0.275, running_train_loss=0.208] \n"
     ]
    },
    {
     "name": "stdout",
     "output_type": "stream",
     "text": [
      "accuracy:  0.9135030508041382\n",
      "loss:  0.20823435447142336\n"
     ]
    },
    {
     "name": "stderr",
     "output_type": "stream",
     "text": [
      "Validation: 100%|██████████| 761/761 [08:12<00:00,  1.55it/s, acc=0.5, loss=0.4]    \n"
     ]
    },
    {
     "name": "stdout",
     "output_type": "stream",
     "text": [
      "accuracy:  0.9454689621925354\n",
      "loss:  0.1745693549787951\n",
      "Model saved!\n"
     ]
    },
    {
     "data": {
      "image/png": "[encoded data removed]",
      "text/plain": [
       "<Figure size 640x480 with 1 Axes>"
      ]
     },
     "metadata": {},
     "output_type": "display_data"
    },
    {
     "data": {
      "image/png": "[encoded data removed]",
      "text/plain": [
       "<Figure size 640x480 with 1 Axes>"
      ]
     },
     "metadata": {},
     "output_type": "display_data"
    },
    {
     "name": "stderr",
     "output_type": "stream",
     "text": [
      "Epoch 23: 100%|██████████| 3041/3041 [33:12<00:00,  1.53it/s, acc=0.933, loss=0.0844, running_train_loss=0.207]\n"
     ]
    },
    {
     "name": "stdout",
     "output_type": "stream",
     "text": [
      "accuracy:  0.9139167666435242\n",
      "loss:  0.2068922117190783\n"
     ]
    },
    {
     "name": "stderr",
     "output_type": "stream",
     "text": [
      "Validation: 100%|██████████| 761/761 [08:07<00:00,  1.56it/s, acc=1, loss=0.31]      \n"
     ]
    },
    {
     "name": "stdout",
     "output_type": "stream",
     "text": [
      "accuracy:  0.9451194405555725\n",
      "loss:  0.16700328984414076\n"
     ]
    },
    {
     "name": "stderr",
     "output_type": "stream",
     "text": [
      "Epoch 24: 100%|██████████| 3041/3041 [33:22<00:00,  1.52it/s, acc=1, loss=0.0675, running_train_loss=0.205]    \n"
     ]
    },
    {
     "name": "stdout",
     "output_type": "stream",
     "text": [
      "accuracy:  0.9144744277000427\n",
      "loss:  0.20544831875916258\n"
     ]
    },
    {
     "name": "stderr",
     "output_type": "stream",
     "text": [
      "Validation: 100%|██████████| 761/761 [08:12<00:00,  1.55it/s, acc=1, loss=0.292]     \n"
     ]
    },
    {
     "name": "stdout",
     "output_type": "stream",
     "text": [
      "accuracy:  0.9460445642471313\n",
      "loss:  0.16804180847439285\n",
      "Model saved!\n"
     ]
    },
    {
     "data": {
      "image/png": "[encoded data removed]",
      "text/plain": [
       "<Figure size 640x480 with 1 Axes>"
      ]
     },
     "metadata": {},
     "output_type": "display_data"
    },
    {
     "data": {
      "image/png": "[encoded data removed]",
      "text/plain": [
       "<Figure size 640x480 with 1 Axes>"
      ]
     },
     "metadata": {},
     "output_type": "display_data"
    },
    {
     "name": "stderr",
     "output_type": "stream",
     "text": [
      "Epoch 25: 100%|██████████| 3041/3041 [33:13<00:00,  1.53it/s, acc=1, loss=0.0254, running_train_loss=0.203]    \n"
     ]
    },
    {
     "name": "stdout",
     "output_type": "stream",
     "text": [
      "accuracy:  0.9151220321655273\n",
      "loss:  0.20322113145425774\n"
     ]
    },
    {
     "name": "stderr",
     "output_type": "stream",
     "text": [
      "Validation: 100%|██████████| 761/761 [08:06<00:00,  1.56it/s, acc=0.75, loss=0.406]  \n"
     ]
    },
    {
     "name": "stdout",
     "output_type": "stream",
     "text": [
      "accuracy:  0.9475659132003784\n",
      "loss:  0.14939224206978324\n"
     ]
    },
    {
     "name": "stderr",
     "output_type": "stream",
     "text": [
      "Epoch 26: 100%|██████████| 3041/3041 [33:37<00:00,  1.51it/s, acc=0.933, loss=0.0653, running_train_loss=0.205]\n"
     ]
    },
    {
     "name": "stdout",
     "output_type": "stream",
     "text": [
      "accuracy:  0.9148855805397034\n",
      "loss:  0.20454812313000334\n"
     ]
    },
    {
     "name": "stderr",
     "output_type": "stream",
     "text": [
      "Validation: 100%|██████████| 761/761 [08:14<00:00,  1.54it/s, acc=0.5, loss=0.732]   \n"
     ]
    },
    {
     "name": "stdout",
     "output_type": "stream",
     "text": [
      "accuracy:  0.9506085515022278\n",
      "loss:  0.14356034344035284\n",
      "Model saved!\n"
     ]
    },
    {
     "data": {
      "image/png": "[encoded data removed]",
      "text/plain": [
       "<Figure size 640x480 with 1 Axes>"
      ]
     },
     "metadata": {},
     "output_type": "display_data"
    },
    {
     "data": {
      "image/png": "[encoded data removed]",
      "text/plain": [
       "<Figure size 640x480 with 1 Axes>"
      ]
     },
     "metadata": {},
     "output_type": "display_data"
    },
    {
     "name": "stderr",
     "output_type": "stream",
     "text": [
      "Epoch 27: 100%|██████████| 3041/3041 [33:15<00:00,  1.52it/s, acc=0.933, loss=0.114, running_train_loss=0.2]   \n"
     ]
    },
    {
     "name": "stdout",
     "output_type": "stream",
     "text": [
      "accuracy:  0.9165636897087097\n",
      "loss:  0.20040268940494\n"
     ]
    },
    {
     "name": "stderr",
     "output_type": "stream",
     "text": [
      "Validation: 100%|██████████| 761/761 [08:08<00:00,  1.56it/s, acc=0.5, loss=0.558]   \n"
     ]
    },
    {
     "name": "stdout",
     "output_type": "stream",
     "text": [
      "accuracy:  0.9483676552772522\n",
      "loss:  0.14642527905071298\n"
     ]
    },
    {
     "name": "stderr",
     "output_type": "stream",
     "text": [
      "Epoch 28: 100%|██████████| 3041/3041 [33:49<00:00,  1.50it/s, acc=0.933, loss=0.133, running_train_loss=0.201] \n"
     ]
    },
    {
     "name": "stdout",
     "output_type": "stream",
     "text": [
      "accuracy:  0.9169337153434753\n",
      "loss:  0.20055770687330166\n"
     ]
    },
    {
     "name": "stderr",
     "output_type": "stream",
     "text": [
      "Validation: 100%|██████████| 761/761 [08:15<00:00,  1.54it/s, acc=0.75, loss=0.375]  \n"
     ]
    },
    {
     "name": "stdout",
     "output_type": "stream",
     "text": [
      "accuracy:  0.9483779668807983\n",
      "loss:  0.15321431516543638\n",
      "Model saved!\n"
     ]
    },
    {
     "data": {
      "image/png": "[encoded data removed]",
      "text/plain": [
       "<Figure size 640x480 with 1 Axes>"
      ]
     },
     "metadata": {},
     "output_type": "display_data"
    },
    {
     "data": {
      "image/png": "[encoded data removed]",
      "text/plain": [
       "<Figure size 640x480 with 1 Axes>"
      ]
     },
     "metadata": {},
     "output_type": "display_data"
    },
    {
     "name": "stderr",
     "output_type": "stream",
     "text": [
      "Epoch 29: 100%|██████████| 3041/3041 [33:55<00:00,  1.49it/s, acc=1, loss=0.0626, running_train_loss=0.2]      \n"
     ]
    },
    {
     "name": "stdout",
     "output_type": "stream",
     "text": [
      "accuracy:  0.917167603969574\n",
      "loss:  0.19968682129410137\n"
     ]
    },
    {
     "name": "stderr",
     "output_type": "stream",
     "text": [
      "Validation: 100%|██████████| 761/761 [08:32<00:00,  1.48it/s, acc=1, loss=0.258]     \n"
     ]
    },
    {
     "name": "stdout",
     "output_type": "stream",
     "text": [
      "accuracy:  0.9517598152160645\n",
      "loss:  0.14299815411479966\n"
     ]
    },
    {
     "name": "stderr",
     "output_type": "stream",
     "text": [
      "Epoch 30: 100%|██████████| 3041/3041 [34:53<00:00,  1.45it/s, acc=1, loss=0.0291, running_train_loss=0.201]    \n"
     ]
    },
    {
     "name": "stdout",
     "output_type": "stream",
     "text": [
      "accuracy:  0.9169748425483704\n",
      "loss:  0.20113184482939675\n"
     ]
    },
    {
     "name": "stderr",
     "output_type": "stream",
     "text": [
      "Validation: 100%|██████████| 761/761 [08:39<00:00,  1.46it/s, acc=0.5, loss=0.418]   \n"
     ]
    },
    {
     "name": "stdout",
     "output_type": "stream",
     "text": [
      "accuracy:  0.9473603367805481\n",
      "loss:  0.1466746832514561\n",
      "Model saved!\n"
     ]
    },
    {
     "data": {
      "image/png": "[encoded data removed]",
      "text/plain": [
       "<Figure size 640x480 with 1 Axes>"
      ]
     },
     "metadata": {},
     "output_type": "display_data"
    },
    {
     "data": {
      "image/png": "[encoded data removed]",
      "text/plain": [
       "<Figure size 640x480 with 1 Axes>"
      ]
     },
     "metadata": {},
     "output_type": "display_data"
    },
    {
     "name": "stderr",
     "output_type": "stream",
     "text": [
      "Epoch 31:   0%|          | 11/3041 [00:08<38:50,  1.30it/s, acc=0.945, loss=0.127, running_train_loss=0.19]\n"
     ]
    },
    {
     "ename": "KeyboardInterrupt",
     "evalue": "",
     "output_type": "error",
     "traceback": [
      "\u001b[1;31m---------------------------------------------------------------------------\u001b[0m",
      "\u001b[1;31mKeyboardInterrupt\u001b[0m                         Traceback (most recent call last)",
      "Cell \u001b[1;32mIn[42], line 11\u001b[0m\n\u001b[0;32m      9\u001b[0m \u001b[38;5;28;01mwith\u001b[39;00m tqdm(train_dataloader) \u001b[38;5;28;01mas\u001b[39;00m bar:\n\u001b[0;32m     10\u001b[0m     bar\u001b[38;5;241m.\u001b[39mset_description(\u001b[38;5;124mf\u001b[39m\u001b[38;5;124m\"\u001b[39m\u001b[38;5;124mEpoch \u001b[39m\u001b[38;5;132;01m{\u001b[39;00mepoch\u001b[38;5;132;01m}\u001b[39;00m\u001b[38;5;124m\"\u001b[39m)\n\u001b[1;32m---> 11\u001b[0m     \u001b[38;5;28;01mfor\u001b[39;00m batch \u001b[38;5;129;01min\u001b[39;00m bar:\n\u001b[0;32m     12\u001b[0m         \u001b[38;5;66;03m# take a batch\u001b[39;00m\n\u001b[0;32m     13\u001b[0m         torch\u001b[38;5;241m.\u001b[39mcuda\u001b[38;5;241m.\u001b[39mempty_cache()\n\u001b[0;32m     14\u001b[0m         inputs, labels \u001b[38;5;241m=\u001b[39m batch \n",
      "File \u001b[1;32m~\\anaconda3\\lib\\site-packages\\tqdm\\std.py:1178\u001b[0m, in \u001b[0;36mtqdm.__iter__\u001b[1;34m(self)\u001b[0m\n\u001b[0;32m   1175\u001b[0m time \u001b[38;5;241m=\u001b[39m \u001b[38;5;28mself\u001b[39m\u001b[38;5;241m.\u001b[39m_time\n\u001b[0;32m   1177\u001b[0m \u001b[38;5;28;01mtry\u001b[39;00m:\n\u001b[1;32m-> 1178\u001b[0m     \u001b[38;5;28;01mfor\u001b[39;00m obj \u001b[38;5;129;01min\u001b[39;00m iterable:\n\u001b[0;32m   1179\u001b[0m         \u001b[38;5;28;01myield\u001b[39;00m obj\n\u001b[0;32m   1180\u001b[0m         \u001b[38;5;66;03m# Update and possibly print the progressbar.\u001b[39;00m\n\u001b[0;32m   1181\u001b[0m         \u001b[38;5;66;03m# Note: does not call self.update(1) for speed optimisation.\u001b[39;00m\n",
      "File \u001b[1;32m~\\anaconda3\\lib\\site-packages\\torch\\utils\\data\\dataloader.py:630\u001b[0m, in \u001b[0;36m_BaseDataLoaderIter.__next__\u001b[1;34m(self)\u001b[0m\n\u001b[0;32m    627\u001b[0m \u001b[38;5;28;01mif\u001b[39;00m \u001b[38;5;28mself\u001b[39m\u001b[38;5;241m.\u001b[39m_sampler_iter \u001b[38;5;129;01mis\u001b[39;00m \u001b[38;5;28;01mNone\u001b[39;00m:\n\u001b[0;32m    628\u001b[0m     \u001b[38;5;66;03m# TODO(https://github.com/pytorch/pytorch/issues/76750)\u001b[39;00m\n\u001b[0;32m    629\u001b[0m     \u001b[38;5;28mself\u001b[39m\u001b[38;5;241m.\u001b[39m_reset()  \u001b[38;5;66;03m# type: ignore[call-arg]\u001b[39;00m\n\u001b[1;32m--> 630\u001b[0m data \u001b[38;5;241m=\u001b[39m \u001b[38;5;28;43mself\u001b[39;49m\u001b[38;5;241;43m.\u001b[39;49m\u001b[43m_next_data\u001b[49m\u001b[43m(\u001b[49m\u001b[43m)\u001b[49m\n\u001b[0;32m    631\u001b[0m \u001b[38;5;28mself\u001b[39m\u001b[38;5;241m.\u001b[39m_num_yielded \u001b[38;5;241m+\u001b[39m\u001b[38;5;241m=\u001b[39m \u001b[38;5;241m1\u001b[39m\n\u001b[0;32m    632\u001b[0m \u001b[38;5;28;01mif\u001b[39;00m \u001b[38;5;28mself\u001b[39m\u001b[38;5;241m.\u001b[39m_dataset_kind \u001b[38;5;241m==\u001b[39m _DatasetKind\u001b[38;5;241m.\u001b[39mIterable \u001b[38;5;129;01mand\u001b[39;00m \\\n\u001b[0;32m    633\u001b[0m         \u001b[38;5;28mself\u001b[39m\u001b[38;5;241m.\u001b[39m_IterableDataset_len_called \u001b[38;5;129;01mis\u001b[39;00m \u001b[38;5;129;01mnot\u001b[39;00m \u001b[38;5;28;01mNone\u001b[39;00m \u001b[38;5;129;01mand\u001b[39;00m \\\n\u001b[0;32m    634\u001b[0m         \u001b[38;5;28mself\u001b[39m\u001b[38;5;241m.\u001b[39m_num_yielded \u001b[38;5;241m>\u001b[39m \u001b[38;5;28mself\u001b[39m\u001b[38;5;241m.\u001b[39m_IterableDataset_len_called:\n",
      "File \u001b[1;32m~\\anaconda3\\lib\\site-packages\\torch\\utils\\data\\dataloader.py:674\u001b[0m, in \u001b[0;36m_SingleProcessDataLoaderIter._next_data\u001b[1;34m(self)\u001b[0m\n\u001b[0;32m    672\u001b[0m \u001b[38;5;28;01mdef\u001b[39;00m \u001b[38;5;21m_next_data\u001b[39m(\u001b[38;5;28mself\u001b[39m):\n\u001b[0;32m    673\u001b[0m     index \u001b[38;5;241m=\u001b[39m \u001b[38;5;28mself\u001b[39m\u001b[38;5;241m.\u001b[39m_next_index()  \u001b[38;5;66;03m# may raise StopIteration\u001b[39;00m\n\u001b[1;32m--> 674\u001b[0m     data \u001b[38;5;241m=\u001b[39m \u001b[38;5;28;43mself\u001b[39;49m\u001b[38;5;241;43m.\u001b[39;49m\u001b[43m_dataset_fetcher\u001b[49m\u001b[38;5;241;43m.\u001b[39;49m\u001b[43mfetch\u001b[49m\u001b[43m(\u001b[49m\u001b[43mindex\u001b[49m\u001b[43m)\u001b[49m  \u001b[38;5;66;03m# may raise StopIteration\u001b[39;00m\n\u001b[0;32m    675\u001b[0m     \u001b[38;5;28;01mif\u001b[39;00m \u001b[38;5;28mself\u001b[39m\u001b[38;5;241m.\u001b[39m_pin_memory:\n\u001b[0;32m    676\u001b[0m         data \u001b[38;5;241m=\u001b[39m _utils\u001b[38;5;241m.\u001b[39mpin_memory\u001b[38;5;241m.\u001b[39mpin_memory(data, \u001b[38;5;28mself\u001b[39m\u001b[38;5;241m.\u001b[39m_pin_memory_device)\n",
      "File \u001b[1;32m~\\anaconda3\\lib\\site-packages\\torch\\utils\\data\\_utils\\fetch.py:51\u001b[0m, in \u001b[0;36m_MapDatasetFetcher.fetch\u001b[1;34m(self, possibly_batched_index)\u001b[0m\n\u001b[0;32m     49\u001b[0m         data \u001b[38;5;241m=\u001b[39m \u001b[38;5;28mself\u001b[39m\u001b[38;5;241m.\u001b[39mdataset\u001b[38;5;241m.\u001b[39m__getitems__(possibly_batched_index)\n\u001b[0;32m     50\u001b[0m     \u001b[38;5;28;01melse\u001b[39;00m:\n\u001b[1;32m---> 51\u001b[0m         data \u001b[38;5;241m=\u001b[39m [\u001b[38;5;28mself\u001b[39m\u001b[38;5;241m.\u001b[39mdataset[idx] \u001b[38;5;28;01mfor\u001b[39;00m idx \u001b[38;5;129;01min\u001b[39;00m possibly_batched_index]\n\u001b[0;32m     52\u001b[0m \u001b[38;5;28;01melse\u001b[39;00m:\n\u001b[0;32m     53\u001b[0m     data \u001b[38;5;241m=\u001b[39m \u001b[38;5;28mself\u001b[39m\u001b[38;5;241m.\u001b[39mdataset[possibly_batched_index]\n",
      "File \u001b[1;32m~\\anaconda3\\lib\\site-packages\\torch\\utils\\data\\_utils\\fetch.py:51\u001b[0m, in \u001b[0;36m<listcomp>\u001b[1;34m(.0)\u001b[0m\n\u001b[0;32m     49\u001b[0m         data \u001b[38;5;241m=\u001b[39m \u001b[38;5;28mself\u001b[39m\u001b[38;5;241m.\u001b[39mdataset\u001b[38;5;241m.\u001b[39m__getitems__(possibly_batched_index)\n\u001b[0;32m     50\u001b[0m     \u001b[38;5;28;01melse\u001b[39;00m:\n\u001b[1;32m---> 51\u001b[0m         data \u001b[38;5;241m=\u001b[39m [\u001b[38;5;28;43mself\u001b[39;49m\u001b[38;5;241;43m.\u001b[39;49m\u001b[43mdataset\u001b[49m\u001b[43m[\u001b[49m\u001b[43midx\u001b[49m\u001b[43m]\u001b[49m \u001b[38;5;28;01mfor\u001b[39;00m idx \u001b[38;5;129;01min\u001b[39;00m possibly_batched_index]\n\u001b[0;32m     52\u001b[0m \u001b[38;5;28;01melse\u001b[39;00m:\n\u001b[0;32m     53\u001b[0m     data \u001b[38;5;241m=\u001b[39m \u001b[38;5;28mself\u001b[39m\u001b[38;5;241m.\u001b[39mdataset[possibly_batched_index]\n",
      "Cell \u001b[1;32mIn[6], line 28\u001b[0m, in \u001b[0;36mCustomClassificationDataset.__getitem__\u001b[1;34m(self, idx)\u001b[0m\n\u001b[0;32m     18\u001b[0m Y \u001b[38;5;241m=\u001b[39m torch\u001b[38;5;241m.\u001b[39mFloatTensor(frame[\u001b[38;5;28mself\u001b[39m\u001b[38;5;241m.\u001b[39mY_column])\n\u001b[0;32m     20\u001b[0m \u001b[38;5;66;03m# Assuming X is a NumPy array\u001b[39;00m\n\u001b[0;32m     21\u001b[0m \u001b[38;5;66;03m#X_2d = X.reshape(-1, X.shape[-1])\u001b[39;00m\n\u001b[0;32m     22\u001b[0m \u001b[38;5;66;03m#X_2d = self.scaler.transform(X_2d)\u001b[39;00m\n\u001b[0;32m     23\u001b[0m \u001b[38;5;66;03m#X = X_2d.reshape(X.shape[:-1] + (-1,))\u001b[39;00m\n\u001b[0;32m     24\u001b[0m \u001b[38;5;66;03m#X = self.scaler.fit_transform(X)\u001b[39;00m\n\u001b[0;32m     25\u001b[0m \u001b[38;5;66;03m# Convert to PyTorch tensors\u001b[39;00m\n\u001b[1;32m---> 28\u001b[0m X_dev \u001b[38;5;241m=\u001b[39m \u001b[43mX\u001b[49m\u001b[38;5;241;43m.\u001b[39;49m\u001b[43mto\u001b[49m\u001b[43m(\u001b[49m\u001b[43mdevice\u001b[49m\u001b[43m)\u001b[49m\n\u001b[0;32m     29\u001b[0m Y_dev \u001b[38;5;241m=\u001b[39m (torch\u001b[38;5;241m.\u001b[39msum(Y) \u001b[38;5;241m>\u001b[39m \u001b[38;5;241m30\u001b[39m)\u001b[38;5;241m.\u001b[39mto(device)\n\u001b[0;32m     30\u001b[0m \u001b[38;5;66;03m#print(Y_dev)\u001b[39;00m\n",
      "\u001b[1;31mKeyboardInterrupt\u001b[0m: "
     ]
    }
   ],
   "source": [
    "for epoch in range(start_epoch, num_epochs+1):\n",
    "    model.train()  # Set the model to training mode\n",
    "    running_train_loss = 0.0\n",
    "    running_val_loss = 0.0\n",
    "\n",
    "    predicted_labels = torch.Tensor().to(device)\n",
    "    true_labels = torch.Tensor().to(device)\n",
    "\n",
    "    with tqdm(train_dataloader) as bar:\n",
    "        bar.set_description(f\"Epoch {epoch}\")\n",
    "        for batch in bar:\n",
    "            # take a batch\n",
    "            torch.cuda.empty_cache()\n",
    "            inputs, labels = batch \n",
    "            inputs, labels = inputs.to(device), labels.float().to(device)\n",
    "\n",
    "            # forward pass\n",
    "            outputs = model(inputs).squeeze(1)\n",
    "            loss = criterion(outputs, labels)\n",
    "            torch.cuda.empty_cache()\n",
    "            \n",
    "            # backward pass\n",
    "            optimizer.zero_grad()\n",
    "            loss.backward()\n",
    "\n",
    "            # update weights\n",
    "            optimizer.step()\n",
    "\n",
    "            # print progress\n",
    "            running_train_loss += loss.item()\n",
    "            acc = (outputs.round() == labels).float().mean()\n",
    "            \n",
    "            predicted_labels = torch.cat((predicted_labels, outputs.round()), dim=0)\n",
    "            true_labels = torch.cat((true_labels, labels), dim=0)\n",
    "            torch.cuda.empty_cache()\n",
    "\n",
    "            bar.set_postfix(\n",
    "                loss=float(loss),\n",
    "                acc=float(acc),\n",
    "                running_train_loss=float(running_train_loss / (bar.n + 1))\n",
    "            )\n",
    "    \n",
    "    final_acc = (predicted_labels == true_labels).float().mean()\n",
    "    final_loss = running_train_loss/len(train_dataloader)\n",
    "    print('accuracy: ', final_acc.item())\n",
    "    print('loss: ', final_loss)\n",
    "    train_acc_hist.append(final_acc.item())\n",
    "    train_loss_hist.append(final_loss)\n",
    "\n",
    "    del predicted_labels, true_labels\n",
    "    torch.cuda.empty_cache()\n",
    "\n",
    "    predicted_labels = torch.Tensor().to(device)\n",
    "    true_labels = torch.Tensor().to(device)\n",
    "\n",
    "    torch.cuda.empty_cache()\n",
    "\n",
    "    with torch.no_grad():\n",
    "        model.eval()\n",
    "        with tqdm(val_dataloader) as bar:\n",
    "            bar.set_description(f\"Validation\")\n",
    "            for batch in bar:\n",
    "                # take a batch\n",
    "                torch.cuda.empty_cache()\n",
    "                inputs, labels = batch \n",
    "                inputs, labels = inputs.to(device), labels.float().to(device)\n",
    "\n",
    "                # forward pass\n",
    "                outputs = model(inputs).squeeze(1)\n",
    "                val_loss = criterion(outputs, labels)\n",
    "                torch.cuda.empty_cache()\n",
    "                \n",
    "                # print progress\n",
    "                running_val_loss += val_loss.item()\n",
    "                val_acc = (outputs.round() == labels).float().mean()\n",
    "\n",
    "                predicted_labels = torch.cat((predicted_labels, outputs.round()), dim=0)\n",
    "                true_labels = torch.cat((true_labels, labels), dim=0)\n",
    "                torch.cuda.empty_cache()\n",
    "\n",
    "                bar.set_postfix(\n",
    "                    loss=float(val_loss),\n",
    "                    acc=float(val_acc),\n",
    "                )\n",
    "                \n",
    "    final_acc = (predicted_labels == true_labels).float().mean()\n",
    "    final_loss = running_val_loss/len(val_dataloader)\n",
    "    print('accuracy: ', final_acc.item())\n",
    "    print('loss: ', final_loss)\n",
    "    valid_acc_hist.append(final_acc.item())\n",
    "    valid_loss_hist.append(final_loss)\n",
    "\n",
    "    del predicted_labels, true_labels\n",
    "    torch.cuda.empty_cache()\n",
    "\n",
    "    #scheduler.step()\n",
    "\n",
    "    if epoch%2==0:\n",
    "        checkpoint = {\n",
    "            'epoch': epoch + 1,\n",
    "            'state_dict': model.state_dict(),\n",
    "            'optimizer': optimizer.state_dict()\n",
    "        }\n",
    "        save_ckp(checkpoint, 'checkpoints/classification/'+str(epoch)+'_checkpoint.pt')\n",
    "        \n",
    "        torch.cuda.empty_cache()\n",
    "        save_history(train_acc_hist, train_loss_hist, valid_acc_hist, valid_loss_hist, 'checkpoints/classification/')\n",
    "        torch.cuda.empty_cache()\n",
    "        plot_history(train_acc_hist, train_loss_hist, valid_acc_hist, valid_loss_hist, 'checkpoints/classification/')\n",
    "        torch.cuda.empty_cache()\n",
    "        \n",
    "    torch.cuda.empty_cache()\n",
    "\n",
    "print(\"Training complete\")"
   ]
  },
  {
   "cell_type": "markdown",
   "id": "2b9fd2d3",
   "metadata": {},
   "source": [
    "## Sound separation"
   ]
  },
  {
   "cell_type": "code",
   "execution_count": 14,
   "id": "cca04bb6",
   "metadata": {},
   "outputs": [],
   "source": [
    "class CustomRegressionDataset(Dataset):\n",
    "    def __init__(self, data, X_column, Y_column):\n",
    "        self.X_column = X_column\n",
    "        self.Y_column = Y_column\n",
    "        self.data = data\n",
    "        #self.scaler = StandardScaler()\n",
    "        \n",
    "    def __len__(self):\n",
    "        torch.cuda.empty_cache()\n",
    "        return len(self.data)\n",
    "    \n",
    "    def __getitem__(self, idx):\n",
    "        frame = pd.read_pickle(self.data.iloc[idx]['path'])\n",
    "        X = frame[self.X_column]\n",
    "        Y = frame[self.Y_column]\n",
    "        \n",
    "        X_dev = torch.FloatTensor(X).to(device)\n",
    "        Y_dev = torch.FloatTensor(Y).to(device)\n",
    "            \n",
    "        torch.cuda.empty_cache()\n",
    "        return X_dev, Y_dev"
   ]
  },
  {
   "cell_type": "code",
   "execution_count": 42,
   "id": "10ceaaea",
   "metadata": {},
   "outputs": [],
   "source": [
    "class CustomRegressionCNN(nn.Module):\n",
    "    def __init__(self):\n",
    "        super(CustomRegressionCNN, self).__init__()\n",
    "        self.conv1 = nn.Conv2d(1, 32, kernel_size=(3, 3), padding='same')\n",
    "        self.relu1 = nn.LeakyReLU()\n",
    "        self.conv2 = nn.Conv2d(32, 16, kernel_size=(3, 3), padding='same')\n",
    "        self.relu2 = nn.LeakyReLU()\n",
    "        self.pool1 = nn.MaxPool2d(kernel_size=(3, 3))\n",
    "        self.dropout1 = nn.Dropout(0.1)\n",
    "        \n",
    "        self.conv3 = nn.Conv2d(16, 64, kernel_size=(3, 3), padding='same')\n",
    "        self.relu3 = nn.LeakyReLU()\n",
    "        self.conv4 = nn.Conv2d(64, 16, kernel_size=(3, 3), padding='same')\n",
    "        self.relu4 = nn.LeakyReLU()\n",
    "        self.pool2 = nn.MaxPool2d(kernel_size=(3, 3))\n",
    "        self.dropout2 = nn.Dropout(0.1)\n",
    "        \n",
    "        self.flatten = nn.Flatten()\n",
    "        self.fc1 = nn.Linear(16 * 57 * 2, 128)\n",
    "        self.relu5 = nn.LeakyReLU()\n",
    "        self.dropout3 = nn.Dropout(0.2)\n",
    "        \n",
    "        self.fc2 = nn.Linear(128, 513)\n",
    "        self.sigmoid = nn.Sigmoid()\n",
    "\n",
    "    def forward(self, x):\n",
    "        x = x.unsqueeze(1)\n",
    "        x = self.conv1(x)\n",
    "        x = self.relu1(x)\n",
    "        x = self.conv2(x)\n",
    "        x = self.relu2(x)\n",
    "        x = self.pool1(x)\n",
    "        x = self.dropout1(x)\n",
    "        \n",
    "        x = self.conv3(x)\n",
    "        x = self.relu3(x)\n",
    "        x = self.conv4(x)\n",
    "        x = self.relu4(x)\n",
    "        x = self.pool2(x)\n",
    "        x = self.dropout2(x)\n",
    "        \n",
    "        x = self.flatten(x)\n",
    "        x = self.fc1(x)\n",
    "        x = self.relu5(x)\n",
    "        x = self.dropout3(x)\n",
    "        \n",
    "        x = self.fc2(x)\n",
    "        x = self.sigmoid(x)\n",
    "        return x"
   ]
  },
  {
   "cell_type": "code",
   "execution_count": 43,
   "id": "296ccd7a",
   "metadata": {},
   "outputs": [],
   "source": [
    "class CustomRegressionCNN_Norm(nn.Module):\n",
    "    def __init__(self):\n",
    "        super(CustomRegressionCNN_Norm, self).__init__()\n",
    "        self.conv1 = nn.Conv2d(1, 32, kernel_size=(3, 3), padding='same')\n",
    "        self.bn1 = nn.BatchNorm2d(32)  # Batch normalization after the first convolution\n",
    "        self.relu1 = nn.LeakyReLU()\n",
    "        self.conv2 = nn.Conv2d(32, 16, kernel_size=(3, 3), padding='same')\n",
    "        self.bn2 = nn.BatchNorm2d(16)  # Batch normalization after the second convolution\n",
    "        self.relu2 = nn.LeakyReLU()\n",
    "        self.pool1 = nn.MaxPool2d(kernel_size=(3, 3))\n",
    "        self.dropout1 = nn.Dropout(0.1)\n",
    "        \n",
    "        self.conv3 = nn.Conv2d(16, 64, kernel_size=(3, 3), padding='same')\n",
    "        self.bn3 = nn.BatchNorm2d(64)  # Batch normalization after the third convolution\n",
    "        self.relu3 = nn.LeakyReLU()\n",
    "        self.conv4 = nn.Conv2d(64, 16, kernel_size=(3, 3), padding='same')\n",
    "        self.bn4 = nn.BatchNorm2d(16)  # Batch normalization after the fourth convolution\n",
    "        self.relu4 = nn.LeakyReLU()\n",
    "        self.pool2 = nn.MaxPool2d(kernel_size=(3, 3))\n",
    "        self.dropout2 = nn.Dropout(0.1)\n",
    "        \n",
    "        self.flatten = nn.Flatten()\n",
    "        self.fc1 = nn.Linear(16 * 57 * 2, 128)\n",
    "        self.bn5 = nn.BatchNorm1d(128)  # Batch normalization before the first fully connected layer\n",
    "        self.relu5 = nn.LeakyReLU()\n",
    "        self.dropout3 = nn.Dropout(0.1)\n",
    "        \n",
    "        self.fc2 = nn.Linear(128, 513)\n",
    "        self.sigmoid = nn.Sigmoid()\n",
    "\n",
    "    def forward(self, x):\n",
    "        x = x.unsqueeze(1)\n",
    "        x = self.conv1(x)\n",
    "        x = self.bn1(x)  # Batch normalization\n",
    "        x = self.relu1(x)\n",
    "        x = self.conv2(x)\n",
    "        x = self.bn2(x)  # Batch normalization\n",
    "        x = self.relu2(x)\n",
    "        x = self.pool1(x)\n",
    "        x = self.dropout1(x)\n",
    "        \n",
    "        x = self.conv3(x)\n",
    "        x = self.bn3(x)  # Batch normalization\n",
    "        x = self.relu3(x)\n",
    "        x = self.conv4(x)\n",
    "        x = self.bn4(x)  # Batch normalization\n",
    "        x = self.relu4(x)\n",
    "        x = self.pool2(x)\n",
    "        x = self.dropout2(x)\n",
    "        \n",
    "        x = self.flatten(x)\n",
    "        x = self.fc1(x)\n",
    "        x = self.bn5(x)  # Batch normalization\n",
    "        x = self.relu5(x)\n",
    "        x = self.dropout3(x)\n",
    "        \n",
    "        x = self.fc2(x)\n",
    "        x = self.sigmoid(x)\n",
    "        return x"
   ]
  },
  {
   "cell_type": "code",
   "execution_count": 44,
   "id": "2553eb22",
   "metadata": {},
   "outputs": [],
   "source": [
    "class CustomRegressionCNN_Imp(nn.Module):\n",
    "    def __init__(self):\n",
    "        super(CustomRegressionCNN_Imp, self).__init__()\n",
    "        \n",
    "        self.conv1 = nn.Conv2d(1, 64, kernel_size=(3, 3), padding='same')\n",
    "        self.bn1 = nn.BatchNorm2d(64)  # Batch normalization after the first convolution\n",
    "        self.relu1 = nn.LeakyReLU()\n",
    "        \n",
    "        self.conv2 = nn.Conv2d(64, 32, kernel_size=(3, 3), padding='same')\n",
    "        self.bn2 = nn.BatchNorm2d(32)  # Batch normalization after the first convolution\n",
    "        self.relu2 = nn.LeakyReLU()\n",
    "        \n",
    "        self.conv3 = nn.Conv2d(32, 16, kernel_size=(3, 3), padding='same')\n",
    "        self.bn3 = nn.BatchNorm2d(16)  # Batch normalization after the second convolution\n",
    "        self.relu3 = nn.LeakyReLU()\n",
    "        self.pool1 = nn.MaxPool2d(kernel_size=(3, 3))\n",
    "        self.dropout1 = nn.Dropout(0.1)\n",
    "        \n",
    "        self.conv4 = nn.Conv2d(16, 32, kernel_size=(3, 3), padding='same')\n",
    "        self.bn4 = nn.BatchNorm2d(32)  # Batch normalization after the third convolution\n",
    "        self.relu4 = nn.LeakyReLU()\n",
    "        \n",
    "        self.conv5 = nn.Conv2d(32, 64, kernel_size=(3, 3), padding='same')\n",
    "        self.bn5 = nn.BatchNorm2d(64)  # Batch normalization after the third convolution\n",
    "        self.relu5 = nn.LeakyReLU()\n",
    "        \n",
    "        self.conv6 = nn.Conv2d(64, 32, kernel_size=(3, 3), padding='same')\n",
    "        self.bn6 = nn.BatchNorm2d(32)  # Batch normalization after the fourth convolution\n",
    "        self.relu6 = nn.LeakyReLU()\n",
    "        \n",
    "        self.conv7 = nn.Conv2d(32, 16, kernel_size=(3, 3), padding='same')\n",
    "        self.bn7 = nn.BatchNorm2d(16)  # Batch normalization after the fourth convolution\n",
    "        self.relu7 = nn.LeakyReLU()\n",
    "        self.pool2 = nn.MaxPool2d(kernel_size=(3, 3))\n",
    "        self.dropout2 = nn.Dropout(0.1)\n",
    "        \n",
    "        self.flatten = nn.Flatten()\n",
    "        self.fc1 = nn.Linear(16 * 57 * 2, 128)\n",
    "        self.bn8 = nn.BatchNorm1d(128)  # Batch normalization before the first fully connected layer\n",
    "        self.relu8 = nn.LeakyReLU()\n",
    "        self.dropout3 = nn.Dropout(0.1)\n",
    "        \n",
    "        self.fc2 = nn.Linear(128, 513)\n",
    "        self.sigmoid = nn.Sigmoid()\n",
    "\n",
    "    def forward(self, x):\n",
    "        x = x.unsqueeze(1)\n",
    "        \n",
    "        x = self.conv1(x)\n",
    "        x = self.bn1(x)  # Batch normalization\n",
    "        x = self.relu1(x)\n",
    "        \n",
    "        x = self.conv2(x)\n",
    "        x = self.bn2(x)  # Batch normalization\n",
    "        x = self.relu2(x)\n",
    "        \n",
    "        x = self.conv3(x)\n",
    "        x = self.bn3(x)  # Batch normalization\n",
    "        x = self.relu3(x)\n",
    "        x = self.pool1(x)\n",
    "        x = self.dropout1(x)\n",
    "        \n",
    "        x = self.conv4(x)\n",
    "        x = self.bn4(x)  # Batch normalization\n",
    "        x = self.relu4(x)\n",
    "        \n",
    "        x = self.conv5(x)\n",
    "        x = self.bn5(x)  # Batch normalization\n",
    "        x = self.relu5(x)\n",
    "        \n",
    "        x = self.conv6(x)\n",
    "        x = self.bn6(x)  # Batch normalization\n",
    "        x = self.relu6(x)\n",
    "        \n",
    "        x = self.conv7(x)\n",
    "        x = self.bn7(x)  # Batch normalization\n",
    "        x = self.relu7(x)\n",
    "        x = self.pool2(x)\n",
    "        x = self.dropout2(x)\n",
    "        \n",
    "        x = self.flatten(x)\n",
    "        x = self.fc1(x)\n",
    "        x = self.bn8(x)  # Batch normalization\n",
    "        x = self.relu8(x)\n",
    "        x = self.dropout3(x)\n",
    "        \n",
    "        x = self.fc2(x)\n",
    "        x = self.sigmoid(x)\n",
    "        return x"
   ]
  },
  {
   "cell_type": "code",
   "execution_count": 45,
   "id": "6b50d4fe",
   "metadata": {
    "scrolled": true
   },
   "outputs": [
    {
     "data": {
      "text/html": [
       "<div>\n",
       "<style scoped>\n",
       "    .dataframe tbody tr th:only-of-type {\n",
       "        vertical-align: middle;\n",
       "    }\n",
       "\n",
       "    .dataframe tbody tr th {\n",
       "        vertical-align: top;\n",
       "    }\n",
       "\n",
       "    .dataframe thead th {\n",
       "        text-align: right;\n",
       "    }\n",
       "</style>\n",
       "<table border=\"1\" class=\"dataframe\">\n",
       "  <thead>\n",
       "    <tr style=\"text-align: right;\">\n",
       "      <th></th>\n",
       "      <th>index</th>\n",
       "      <th>song</th>\n",
       "      <th>path</th>\n",
       "    </tr>\n",
       "  </thead>\n",
       "  <tbody>\n",
       "    <tr>\n",
       "      <th>0</th>\n",
       "      <td>0</td>\n",
       "      <td>0</td>\n",
       "      <td>../musdb18_data/train/frames/0_0_frame.pkl</td>\n",
       "    </tr>\n",
       "    <tr>\n",
       "      <th>1</th>\n",
       "      <td>1</td>\n",
       "      <td>0</td>\n",
       "      <td>../musdb18_data/train/frames/1_0_frame.pkl</td>\n",
       "    </tr>\n",
       "    <tr>\n",
       "      <th>2</th>\n",
       "      <td>2</td>\n",
       "      <td>0</td>\n",
       "      <td>../musdb18_data/train/frames/2_0_frame.pkl</td>\n",
       "    </tr>\n",
       "    <tr>\n",
       "      <th>3</th>\n",
       "      <td>3</td>\n",
       "      <td>0</td>\n",
       "      <td>../musdb18_data/train/frames/3_0_frame.pkl</td>\n",
       "    </tr>\n",
       "    <tr>\n",
       "      <th>4</th>\n",
       "      <td>4</td>\n",
       "      <td>0</td>\n",
       "      <td>../musdb18_data/train/frames/4_0_frame.pkl</td>\n",
       "    </tr>\n",
       "  </tbody>\n",
       "</table>\n",
       "</div>"
      ],
      "text/plain": [
       "   index  song                                        path\n",
       "0      0     0  ../musdb18_data/train/frames/0_0_frame.pkl\n",
       "1      1     0  ../musdb18_data/train/frames/1_0_frame.pkl\n",
       "2      2     0  ../musdb18_data/train/frames/2_0_frame.pkl\n",
       "3      3     0  ../musdb18_data/train/frames/3_0_frame.pkl\n",
       "4      4     0  ../musdb18_data/train/frames/4_0_frame.pkl"
      ]
     },
     "execution_count": 45,
     "metadata": {},
     "output_type": "execute_result"
    }
   ],
   "source": [
    "data = pd.read_csv('../musdb18_data/train/frames.csv')\n",
    "data.head()"
   ]
  },
  {
   "cell_type": "code",
   "execution_count": 46,
   "id": "53e2e97a",
   "metadata": {
    "scrolled": true
   },
   "outputs": [
    {
     "data": {
      "text/html": [
       "<div>\n",
       "<style scoped>\n",
       "    .dataframe tbody tr th:only-of-type {\n",
       "        vertical-align: middle;\n",
       "    }\n",
       "\n",
       "    .dataframe tbody tr th {\n",
       "        vertical-align: top;\n",
       "    }\n",
       "\n",
       "    .dataframe thead th {\n",
       "        text-align: right;\n",
       "    }\n",
       "</style>\n",
       "<table border=\"1\" class=\"dataframe\">\n",
       "  <thead>\n",
       "    <tr style=\"text-align: right;\">\n",
       "      <th></th>\n",
       "      <th>index</th>\n",
       "      <th>song</th>\n",
       "      <th>path</th>\n",
       "    </tr>\n",
       "  </thead>\n",
       "  <tbody>\n",
       "    <tr>\n",
       "      <th>0</th>\n",
       "      <td>0</td>\n",
       "      <td>0</td>\n",
       "      <td>../musdb18_data/test/frames/0_0_frame.pkl</td>\n",
       "    </tr>\n",
       "    <tr>\n",
       "      <th>1</th>\n",
       "      <td>1</td>\n",
       "      <td>0</td>\n",
       "      <td>../musdb18_data/test/frames/1_0_frame.pkl</td>\n",
       "    </tr>\n",
       "    <tr>\n",
       "      <th>2</th>\n",
       "      <td>2</td>\n",
       "      <td>0</td>\n",
       "      <td>../musdb18_data/test/frames/2_0_frame.pkl</td>\n",
       "    </tr>\n",
       "    <tr>\n",
       "      <th>3</th>\n",
       "      <td>3</td>\n",
       "      <td>0</td>\n",
       "      <td>../musdb18_data/test/frames/3_0_frame.pkl</td>\n",
       "    </tr>\n",
       "    <tr>\n",
       "      <th>4</th>\n",
       "      <td>4</td>\n",
       "      <td>0</td>\n",
       "      <td>../musdb18_data/test/frames/4_0_frame.pkl</td>\n",
       "    </tr>\n",
       "  </tbody>\n",
       "</table>\n",
       "</div>"
      ],
      "text/plain": [
       "   index  song                                       path\n",
       "0      0     0  ../musdb18_data/test/frames/0_0_frame.pkl\n",
       "1      1     0  ../musdb18_data/test/frames/1_0_frame.pkl\n",
       "2      2     0  ../musdb18_data/test/frames/2_0_frame.pkl\n",
       "3      3     0  ../musdb18_data/test/frames/3_0_frame.pkl\n",
       "4      4     0  ../musdb18_data/test/frames/4_0_frame.pkl"
      ]
     },
     "execution_count": 46,
     "metadata": {},
     "output_type": "execute_result"
    }
   ],
   "source": [
    "test_data = pd.read_csv('../musdb18_data/test/frames.csv')\n",
    "test_data.head()"
   ]
  },
  {
   "cell_type": "code",
   "execution_count": 47,
   "id": "011d4d8a",
   "metadata": {},
   "outputs": [
    {
     "name": "stdout",
     "output_type": "stream",
     "text": [
      "<class 'pandas.core.frame.DataFrame'>\n",
      "Index: 486419 entries, 0 to 486418\n",
      "Data columns (total 3 columns):\n",
      " #   Column  Non-Null Count   Dtype \n",
      "---  ------  --------------   ----- \n",
      " 0   index   486419 non-null  int64 \n",
      " 1   song    486419 non-null  int64 \n",
      " 2   path    486419 non-null  object\n",
      "dtypes: int64(2), object(1)\n",
      "memory usage: 59.7 MB\n"
     ]
    }
   ],
   "source": [
    "data.info(memory_usage = \"deep\")"
   ]
  },
  {
   "cell_type": "code",
   "execution_count": 48,
   "id": "df650022",
   "metadata": {},
   "outputs": [],
   "source": [
    "test, validation = train_test_split(test_data, test_size=0.4, random_state=47)"
   ]
  },
  {
   "cell_type": "code",
   "execution_count": 49,
   "id": "438780f1",
   "metadata": {},
   "outputs": [],
   "source": [
    "train = data.sample(frac=1, random_state=47).reset_index(drop=True)"
   ]
  },
  {
   "cell_type": "code",
   "execution_count": 50,
   "id": "834fdfa0",
   "metadata": {},
   "outputs": [],
   "source": [
    "test.reset_index(drop=True, inplace=True)\n",
    "validation.reset_index(drop=True, inplace=True)"
   ]
  },
  {
   "cell_type": "code",
   "execution_count": 51,
   "id": "9c5d70e5",
   "metadata": {},
   "outputs": [
    {
     "data": {
      "text/html": [
       "<div>\n",
       "<style scoped>\n",
       "    .dataframe tbody tr th:only-of-type {\n",
       "        vertical-align: middle;\n",
       "    }\n",
       "\n",
       "    .dataframe tbody tr th {\n",
       "        vertical-align: top;\n",
       "    }\n",
       "\n",
       "    .dataframe thead th {\n",
       "        text-align: right;\n",
       "    }\n",
       "</style>\n",
       "<table border=\"1\" class=\"dataframe\">\n",
       "  <thead>\n",
       "    <tr style=\"text-align: right;\">\n",
       "      <th></th>\n",
       "      <th>index</th>\n",
       "      <th>song</th>\n",
       "      <th>path</th>\n",
       "    </tr>\n",
       "  </thead>\n",
       "  <tbody>\n",
       "    <tr>\n",
       "      <th>0</th>\n",
       "      <td>11312</td>\n",
       "      <td>2</td>\n",
       "      <td>../musdb18_data/train/frames/11312_2_frame.pkl</td>\n",
       "    </tr>\n",
       "    <tr>\n",
       "      <th>1</th>\n",
       "      <td>146996</td>\n",
       "      <td>28</td>\n",
       "      <td>../musdb18_data/train/frames/146996_28_frame.pkl</td>\n",
       "    </tr>\n",
       "    <tr>\n",
       "      <th>2</th>\n",
       "      <td>482083</td>\n",
       "      <td>99</td>\n",
       "      <td>../musdb18_data/train/frames/482083_99_frame.pkl</td>\n",
       "    </tr>\n",
       "    <tr>\n",
       "      <th>3</th>\n",
       "      <td>479955</td>\n",
       "      <td>98</td>\n",
       "      <td>../musdb18_data/train/frames/479955_98_frame.pkl</td>\n",
       "    </tr>\n",
       "    <tr>\n",
       "      <th>4</th>\n",
       "      <td>278678</td>\n",
       "      <td>53</td>\n",
       "      <td>../musdb18_data/train/frames/278678_53_frame.pkl</td>\n",
       "    </tr>\n",
       "    <tr>\n",
       "      <th>...</th>\n",
       "      <td>...</td>\n",
       "      <td>...</td>\n",
       "      <td>...</td>\n",
       "    </tr>\n",
       "    <tr>\n",
       "      <th>486414</th>\n",
       "      <td>287411</td>\n",
       "      <td>56</td>\n",
       "      <td>../musdb18_data/train/frames/287411_56_frame.pkl</td>\n",
       "    </tr>\n",
       "    <tr>\n",
       "      <th>486415</th>\n",
       "      <td>416328</td>\n",
       "      <td>86</td>\n",
       "      <td>../musdb18_data/train/frames/416328_86_frame.pkl</td>\n",
       "    </tr>\n",
       "    <tr>\n",
       "      <th>486416</th>\n",
       "      <td>11528</td>\n",
       "      <td>2</td>\n",
       "      <td>../musdb18_data/train/frames/11528_2_frame.pkl</td>\n",
       "    </tr>\n",
       "    <tr>\n",
       "      <th>486417</th>\n",
       "      <td>313222</td>\n",
       "      <td>65</td>\n",
       "      <td>../musdb18_data/train/frames/313222_65_frame.pkl</td>\n",
       "    </tr>\n",
       "    <tr>\n",
       "      <th>486418</th>\n",
       "      <td>365703</td>\n",
       "      <td>76</td>\n",
       "      <td>../musdb18_data/train/frames/365703_76_frame.pkl</td>\n",
       "    </tr>\n",
       "  </tbody>\n",
       "</table>\n",
       "<p>486419 rows × 3 columns</p>\n",
       "</div>"
      ],
      "text/plain": [
       "         index  song                                              path\n",
       "0        11312     2    ../musdb18_data/train/frames/11312_2_frame.pkl\n",
       "1       146996    28  ../musdb18_data/train/frames/146996_28_frame.pkl\n",
       "2       482083    99  ../musdb18_data/train/frames/482083_99_frame.pkl\n",
       "3       479955    98  ../musdb18_data/train/frames/479955_98_frame.pkl\n",
       "4       278678    53  ../musdb18_data/train/frames/278678_53_frame.pkl\n",
       "...        ...   ...                                               ...\n",
       "486414  287411    56  ../musdb18_data/train/frames/287411_56_frame.pkl\n",
       "486415  416328    86  ../musdb18_data/train/frames/416328_86_frame.pkl\n",
       "486416   11528     2    ../musdb18_data/train/frames/11528_2_frame.pkl\n",
       "486417  313222    65  ../musdb18_data/train/frames/313222_65_frame.pkl\n",
       "486418  365703    76  ../musdb18_data/train/frames/365703_76_frame.pkl\n",
       "\n",
       "[486419 rows x 3 columns]"
      ]
     },
     "execution_count": 51,
     "metadata": {},
     "output_type": "execute_result"
    }
   ],
   "source": [
    "train"
   ]
  },
  {
   "cell_type": "code",
   "execution_count": 52,
   "id": "d770b16d",
   "metadata": {},
   "outputs": [
    {
     "data": {
      "text/html": [
       "<div>\n",
       "<style scoped>\n",
       "    .dataframe tbody tr th:only-of-type {\n",
       "        vertical-align: middle;\n",
       "    }\n",
       "\n",
       "    .dataframe tbody tr th {\n",
       "        vertical-align: top;\n",
       "    }\n",
       "\n",
       "    .dataframe thead th {\n",
       "        text-align: right;\n",
       "    }\n",
       "</style>\n",
       "<table border=\"1\" class=\"dataframe\">\n",
       "  <thead>\n",
       "    <tr style=\"text-align: right;\">\n",
       "      <th></th>\n",
       "      <th>index</th>\n",
       "      <th>song</th>\n",
       "      <th>path</th>\n",
       "    </tr>\n",
       "  </thead>\n",
       "  <tbody>\n",
       "    <tr>\n",
       "      <th>0</th>\n",
       "      <td>253660</td>\n",
       "      <td>49</td>\n",
       "      <td>../musdb18_data/test/frames/253660_49_frame.pkl</td>\n",
       "    </tr>\n",
       "    <tr>\n",
       "      <th>1</th>\n",
       "      <td>242883</td>\n",
       "      <td>46</td>\n",
       "      <td>../musdb18_data/test/frames/242883_46_frame.pkl</td>\n",
       "    </tr>\n",
       "    <tr>\n",
       "      <th>2</th>\n",
       "      <td>106149</td>\n",
       "      <td>20</td>\n",
       "      <td>../musdb18_data/test/frames/106149_20_frame.pkl</td>\n",
       "    </tr>\n",
       "    <tr>\n",
       "      <th>3</th>\n",
       "      <td>136598</td>\n",
       "      <td>26</td>\n",
       "      <td>../musdb18_data/test/frames/136598_26_frame.pkl</td>\n",
       "    </tr>\n",
       "    <tr>\n",
       "      <th>4</th>\n",
       "      <td>93974</td>\n",
       "      <td>18</td>\n",
       "      <td>../musdb18_data/test/frames/93974_18_frame.pkl</td>\n",
       "    </tr>\n",
       "    <tr>\n",
       "      <th>...</th>\n",
       "      <td>...</td>\n",
       "      <td>...</td>\n",
       "      <td>...</td>\n",
       "    </tr>\n",
       "    <tr>\n",
       "      <th>155035</th>\n",
       "      <td>154184</td>\n",
       "      <td>29</td>\n",
       "      <td>../musdb18_data/test/frames/154184_29_frame.pkl</td>\n",
       "    </tr>\n",
       "    <tr>\n",
       "      <th>155036</th>\n",
       "      <td>11528</td>\n",
       "      <td>2</td>\n",
       "      <td>../musdb18_data/test/frames/11528_2_frame.pkl</td>\n",
       "    </tr>\n",
       "    <tr>\n",
       "      <th>155037</th>\n",
       "      <td>244039</td>\n",
       "      <td>47</td>\n",
       "      <td>../musdb18_data/test/frames/244039_47_frame.pkl</td>\n",
       "    </tr>\n",
       "    <tr>\n",
       "      <th>155038</th>\n",
       "      <td>51078</td>\n",
       "      <td>9</td>\n",
       "      <td>../musdb18_data/test/frames/51078_9_frame.pkl</td>\n",
       "    </tr>\n",
       "    <tr>\n",
       "      <th>155039</th>\n",
       "      <td>103559</td>\n",
       "      <td>20</td>\n",
       "      <td>../musdb18_data/test/frames/103559_20_frame.pkl</td>\n",
       "    </tr>\n",
       "  </tbody>\n",
       "</table>\n",
       "<p>155040 rows × 3 columns</p>\n",
       "</div>"
      ],
      "text/plain": [
       "         index  song                                             path\n",
       "0       253660    49  ../musdb18_data/test/frames/253660_49_frame.pkl\n",
       "1       242883    46  ../musdb18_data/test/frames/242883_46_frame.pkl\n",
       "2       106149    20  ../musdb18_data/test/frames/106149_20_frame.pkl\n",
       "3       136598    26  ../musdb18_data/test/frames/136598_26_frame.pkl\n",
       "4        93974    18   ../musdb18_data/test/frames/93974_18_frame.pkl\n",
       "...        ...   ...                                              ...\n",
       "155035  154184    29  ../musdb18_data/test/frames/154184_29_frame.pkl\n",
       "155036   11528     2    ../musdb18_data/test/frames/11528_2_frame.pkl\n",
       "155037  244039    47  ../musdb18_data/test/frames/244039_47_frame.pkl\n",
       "155038   51078     9    ../musdb18_data/test/frames/51078_9_frame.pkl\n",
       "155039  103559    20  ../musdb18_data/test/frames/103559_20_frame.pkl\n",
       "\n",
       "[155040 rows x 3 columns]"
      ]
     },
     "execution_count": 52,
     "metadata": {},
     "output_type": "execute_result"
    }
   ],
   "source": [
    "test"
   ]
  },
  {
   "cell_type": "code",
   "execution_count": 53,
   "id": "770ffe02",
   "metadata": {},
   "outputs": [
    {
     "data": {
      "text/html": [
       "<div>\n",
       "<style scoped>\n",
       "    .dataframe tbody tr th:only-of-type {\n",
       "        vertical-align: middle;\n",
       "    }\n",
       "\n",
       "    .dataframe tbody tr th {\n",
       "        vertical-align: top;\n",
       "    }\n",
       "\n",
       "    .dataframe thead th {\n",
       "        text-align: right;\n",
       "    }\n",
       "</style>\n",
       "<table border=\"1\" class=\"dataframe\">\n",
       "  <thead>\n",
       "    <tr style=\"text-align: right;\">\n",
       "      <th></th>\n",
       "      <th>index</th>\n",
       "      <th>song</th>\n",
       "      <th>path</th>\n",
       "    </tr>\n",
       "  </thead>\n",
       "  <tbody>\n",
       "    <tr>\n",
       "      <th>0</th>\n",
       "      <td>123670</td>\n",
       "      <td>23</td>\n",
       "      <td>../musdb18_data/test/frames/123670_23_frame.pkl</td>\n",
       "    </tr>\n",
       "    <tr>\n",
       "      <th>1</th>\n",
       "      <td>24868</td>\n",
       "      <td>4</td>\n",
       "      <td>../musdb18_data/test/frames/24868_4_frame.pkl</td>\n",
       "    </tr>\n",
       "    <tr>\n",
       "      <th>2</th>\n",
       "      <td>50100</td>\n",
       "      <td>9</td>\n",
       "      <td>../musdb18_data/test/frames/50100_9_frame.pkl</td>\n",
       "    </tr>\n",
       "    <tr>\n",
       "      <th>3</th>\n",
       "      <td>121311</td>\n",
       "      <td>23</td>\n",
       "      <td>../musdb18_data/test/frames/121311_23_frame.pkl</td>\n",
       "    </tr>\n",
       "    <tr>\n",
       "      <th>4</th>\n",
       "      <td>177215</td>\n",
       "      <td>34</td>\n",
       "      <td>../musdb18_data/test/frames/177215_34_frame.pkl</td>\n",
       "    </tr>\n",
       "    <tr>\n",
       "      <th>...</th>\n",
       "      <td>...</td>\n",
       "      <td>...</td>\n",
       "      <td>...</td>\n",
       "    </tr>\n",
       "    <tr>\n",
       "      <th>103355</th>\n",
       "      <td>186214</td>\n",
       "      <td>36</td>\n",
       "      <td>../musdb18_data/test/frames/186214_36_frame.pkl</td>\n",
       "    </tr>\n",
       "    <tr>\n",
       "      <th>103356</th>\n",
       "      <td>147827</td>\n",
       "      <td>28</td>\n",
       "      <td>../musdb18_data/test/frames/147827_28_frame.pkl</td>\n",
       "    </tr>\n",
       "    <tr>\n",
       "      <th>103357</th>\n",
       "      <td>152046</td>\n",
       "      <td>29</td>\n",
       "      <td>../musdb18_data/test/frames/152046_29_frame.pkl</td>\n",
       "    </tr>\n",
       "    <tr>\n",
       "      <th>103358</th>\n",
       "      <td>137307</td>\n",
       "      <td>26</td>\n",
       "      <td>../musdb18_data/test/frames/137307_26_frame.pkl</td>\n",
       "    </tr>\n",
       "    <tr>\n",
       "      <th>103359</th>\n",
       "      <td>90963</td>\n",
       "      <td>17</td>\n",
       "      <td>../musdb18_data/test/frames/90963_17_frame.pkl</td>\n",
       "    </tr>\n",
       "  </tbody>\n",
       "</table>\n",
       "<p>103360 rows × 3 columns</p>\n",
       "</div>"
      ],
      "text/plain": [
       "         index  song                                             path\n",
       "0       123670    23  ../musdb18_data/test/frames/123670_23_frame.pkl\n",
       "1        24868     4    ../musdb18_data/test/frames/24868_4_frame.pkl\n",
       "2        50100     9    ../musdb18_data/test/frames/50100_9_frame.pkl\n",
       "3       121311    23  ../musdb18_data/test/frames/121311_23_frame.pkl\n",
       "4       177215    34  ../musdb18_data/test/frames/177215_34_frame.pkl\n",
       "...        ...   ...                                              ...\n",
       "103355  186214    36  ../musdb18_data/test/frames/186214_36_frame.pkl\n",
       "103356  147827    28  ../musdb18_data/test/frames/147827_28_frame.pkl\n",
       "103357  152046    29  ../musdb18_data/test/frames/152046_29_frame.pkl\n",
       "103358  137307    26  ../musdb18_data/test/frames/137307_26_frame.pkl\n",
       "103359   90963    17   ../musdb18_data/test/frames/90963_17_frame.pkl\n",
       "\n",
       "[103360 rows x 3 columns]"
      ]
     },
     "execution_count": 53,
     "metadata": {},
     "output_type": "execute_result"
    }
   ],
   "source": [
    "validation"
   ]
  },
  {
   "cell_type": "code",
   "execution_count": 54,
   "id": "0da9661d",
   "metadata": {},
   "outputs": [
    {
     "data": {
      "text/plain": [
       "'BASS_STFT_MASK'"
      ]
     },
     "execution_count": 54,
     "metadata": {},
     "output_type": "execute_result"
    }
   ],
   "source": [
    "target = Channel(2).name + \"_STFT_MASK\"\n",
    "target"
   ]
  },
  {
   "cell_type": "code",
   "execution_count": 55,
   "id": "0be02cb7",
   "metadata": {},
   "outputs": [],
   "source": [
    "# Create an instance of your custom dataset\n",
    "train_dataset = CustomRegressionDataset(train, 'MIXTURE_STFT_SPEC_FRAME', target)\n",
    "val_dataset = CustomRegressionDataset(validation, 'MIXTURE_STFT_SPEC_FRAME', target)\n",
    "test_dataset = CustomRegressionDataset(test, 'MIXTURE_STFT_SPEC_FRAME', target)"
   ]
  },
  {
   "cell_type": "code",
   "execution_count": 56,
   "id": "956e6a9e",
   "metadata": {},
   "outputs": [],
   "source": [
    "train_dataloader = DataLoader(\n",
    "    train_dataset, batch_size=16, shuffle=False\n",
    ")\n",
    "\n",
    "val_dataloader = DataLoader(\n",
    "    val_dataset, batch_size=16, shuffle=False\n",
    ")\n",
    "\n",
    "test_dataloader = DataLoader(\n",
    "    test_dataset, batch_size=16, shuffle=False\n",
    ")\n",
    "#5168"
   ]
  },
  {
   "cell_type": "code",
   "execution_count": 57,
   "id": "44e13ab0",
   "metadata": {},
   "outputs": [
    {
     "name": "stdout",
     "output_type": "stream",
     "text": [
      "=================================================================\n",
      "Layer (type:depth-idx)                   Param #\n",
      "=================================================================\n",
      "├─Conv2d: 1-1                            320\n",
      "├─LeakyReLU: 1-2                         --\n",
      "├─Conv2d: 1-3                            4,624\n",
      "├─LeakyReLU: 1-4                         --\n",
      "├─MaxPool2d: 1-5                         --\n",
      "├─Dropout: 1-6                           --\n",
      "├─Conv2d: 1-7                            9,280\n",
      "├─LeakyReLU: 1-8                         --\n",
      "├─Conv2d: 1-9                            9,232\n",
      "├─LeakyReLU: 1-10                        --\n",
      "├─MaxPool2d: 1-11                        --\n",
      "├─Dropout: 1-12                          --\n",
      "├─Flatten: 1-13                          --\n",
      "├─Linear: 1-14                           233,600\n",
      "├─LeakyReLU: 1-15                        --\n",
      "├─Dropout: 1-16                          --\n",
      "├─Linear: 1-17                           66,177\n",
      "├─Sigmoid: 1-18                          --\n",
      "=================================================================\n",
      "Total params: 323,233\n",
      "Trainable params: 323,233\n",
      "Non-trainable params: 0\n",
      "=================================================================\n"
     ]
    },
    {
     "data": {
      "text/plain": [
       "=================================================================\n",
       "Layer (type:depth-idx)                   Param #\n",
       "=================================================================\n",
       "├─Conv2d: 1-1                            320\n",
       "├─LeakyReLU: 1-2                         --\n",
       "├─Conv2d: 1-3                            4,624\n",
       "├─LeakyReLU: 1-4                         --\n",
       "├─MaxPool2d: 1-5                         --\n",
       "├─Dropout: 1-6                           --\n",
       "├─Conv2d: 1-7                            9,280\n",
       "├─LeakyReLU: 1-8                         --\n",
       "├─Conv2d: 1-9                            9,232\n",
       "├─LeakyReLU: 1-10                        --\n",
       "├─MaxPool2d: 1-11                        --\n",
       "├─Dropout: 1-12                          --\n",
       "├─Flatten: 1-13                          --\n",
       "├─Linear: 1-14                           233,600\n",
       "├─LeakyReLU: 1-15                        --\n",
       "├─Dropout: 1-16                          --\n",
       "├─Linear: 1-17                           66,177\n",
       "├─Sigmoid: 1-18                          --\n",
       "=================================================================\n",
       "Total params: 323,233\n",
       "Trainable params: 323,233\n",
       "Non-trainable params: 0\n",
       "================================================================="
      ]
     },
     "execution_count": 57,
     "metadata": {},
     "output_type": "execute_result"
    }
   ],
   "source": [
    "# Instantiate the model\n",
    "model = CustomRegressionCNN()\n",
    "model.to(device)\n",
    "summary(model, input_size=(16, 1, 513, 125))"
   ]
  },
  {
   "cell_type": "code",
   "execution_count": 58,
   "id": "40a568ce",
   "metadata": {},
   "outputs": [],
   "source": [
    "criterion_regress = nn.MSELoss()\n",
    "optimizer_sgd = torch.optim.SGD(model.parameters(), lr=0.01, weight_decay=1e-6, momentum=0.99, nesterov=True)"
   ]
  },
  {
   "cell_type": "code",
   "execution_count": 59,
   "id": "3bab161e",
   "metadata": {},
   "outputs": [
    {
     "data": {
      "text/plain": [
       "MSELoss()"
      ]
     },
     "execution_count": 59,
     "metadata": {},
     "output_type": "execute_result"
    }
   ],
   "source": [
    "criterion = criterion_regress\n",
    "criterion.to(device)\n",
    "criterion"
   ]
  },
  {
   "cell_type": "code",
   "execution_count": 60,
   "id": "87f93798",
   "metadata": {},
   "outputs": [
    {
     "data": {
      "text/plain": [
       "SGD (\n",
       "Parameter Group 0\n",
       "    dampening: 0\n",
       "    differentiable: False\n",
       "    foreach: None\n",
       "    lr: 0.01\n",
       "    maximize: False\n",
       "    momentum: 0.99\n",
       "    nesterov: True\n",
       "    weight_decay: 1e-06\n",
       ")"
      ]
     },
     "execution_count": 60,
     "metadata": {},
     "output_type": "execute_result"
    }
   ],
   "source": [
    "optimizer = optimizer_sgd\n",
    "optimizer"
   ]
  },
  {
   "cell_type": "code",
   "execution_count": 61,
   "id": "06576e28",
   "metadata": {},
   "outputs": [],
   "source": [
    "model, optimizer, start_epoch = load_ckp('checkpoints/regression/bass/38_checkpoint.pt', model, optimizer)"
   ]
  },
  {
   "cell_type": "code",
   "execution_count": 62,
   "id": "d98d285a",
   "metadata": {
    "scrolled": true
   },
   "outputs": [
    {
     "data": {
      "text/plain": [
       "39"
      ]
     },
     "execution_count": 62,
     "metadata": {},
     "output_type": "execute_result"
    }
   ],
   "source": [
    "start_epoch"
   ]
  },
  {
   "cell_type": "code",
   "execution_count": 63,
   "id": "53ea915b",
   "metadata": {},
   "outputs": [],
   "source": [
    "scheduler = torch.optim.lr_scheduler.CyclicLR(optimizer, \n",
    "                                     base_lr = 0.01, # Initial learning rate which is the lower boundary in the cycle for each parameter group\n",
    "                                     max_lr = 0.05, # Upper learning rate boundaries in the cycle for each parameter group\n",
    "                                     base_momentum = 0.9,\n",
    "                                     max_momentum = 0.99,\n",
    "                                     step_size_up = 4, # Number of training iterations in the increasing half of a cycle\n",
    "                                     last_epoch = start_epoch-2,\n",
    "                                     mode = \"triangular\")"
   ]
  },
  {
   "cell_type": "code",
   "execution_count": 64,
   "id": "32dba5d3",
   "metadata": {},
   "outputs": [],
   "source": [
    "train_acc_hist, train_loss_hist, valid_acc_hist, valid_loss_hist = get_history('checkpoints/regression/bass/history.csv')"
   ]
  },
  {
   "cell_type": "code",
   "execution_count": 65,
   "id": "48b3f1b4",
   "metadata": {
    "scrolled": true
   },
   "outputs": [
    {
     "data": {
      "text/plain": [
       "[0.0,\n",
       " 0.9382232427597046,\n",
       " 0.9406055808067322,\n",
       " 0.9410889744758606,\n",
       " 0.9414310455322266,\n",
       " 0.941719889640808,\n",
       " 0.9419353604316713,\n",
       " 0.9421011805534364,\n",
       " 0.9422659277915956,\n",
       " 0.9422346353530884,\n",
       " 0.9426512718200684,\n",
       " 0.9426679015159608,\n",
       " 0.942819356918335,\n",
       " 0.942979335784912,\n",
       " 0.9431192278862,\n",
       " 0.9431962370872498,\n",
       " 0.943284034729004,\n",
       " 0.9433298707008362,\n",
       " 0.9434662461280824,\n",
       " 0.9435397386550904,\n",
       " 0.9436067938804626,\n",
       " 0.9436622262001038,\n",
       " 0.9437112212181092,\n",
       " 0.9437256455421448,\n",
       " 0.9437726140022278,\n",
       " 0.9437645673751832,\n",
       " 0.9432539343833924,\n",
       " 0.9427416920661926,\n",
       " 0.942300260066986,\n",
       " 0.9418644309043884,\n",
       " 0.9425095319747924,\n",
       " 0.9430796504020692,\n",
       " 0.9435142278671264,\n",
       " 0.9438562393188475,\n",
       " 0.9436652064323424,\n",
       " 0.9433932304382324,\n",
       " 0.9430363774299622,\n",
       " 0.9425710439682008,\n",
       " 0.9430192112922668,\n",
       " 0.943429946899414,\n",
       " 0.9437747001647948,\n",
       " 0.9440696239471436,\n",
       " 0.9438908696174622,\n",
       " 0.9436037540435792,\n",
       " 0.943229615688324,\n",
       " 0.9427729249000548,\n",
       " 0.9431632161140442,\n",
       " 0.9435762763023376,\n",
       " 0.9439060091972352,\n",
       " 0.9441745281219482,\n",
       " 0.9439948797225952]"
      ]
     },
     "execution_count": 65,
     "metadata": {},
     "output_type": "execute_result"
    }
   ],
   "source": [
    "train_acc_hist"
   ]
  },
  {
   "cell_type": "code",
   "execution_count": 66,
   "id": "b9a2166b",
   "metadata": {
    "scrolled": true
   },
   "outputs": [
    {
     "data": {
      "text/plain": [
       "[1.0,\n",
       " 0.0513849381020952,\n",
       " 0.0484272766797133,\n",
       " 0.0475499344612619,\n",
       " 0.0469690704094899,\n",
       " 0.0465504915566409,\n",
       " 0.0462298892924811,\n",
       " 0.0459708084303484,\n",
       " 0.0457780856357807,\n",
       " 0.0458122812196564,\n",
       " 0.0452801329226186,\n",
       " 0.0452867088541408,\n",
       " 0.0451224769529527,\n",
       " 0.0449183731244662,\n",
       " 0.0447709924750273,\n",
       " 0.0446696772520583,\n",
       " 0.0445690253851744,\n",
       " 0.0445022755751271,\n",
       " 0.0443576196912617,\n",
       " 0.0442632423937979,\n",
       " 0.0441863118862279,\n",
       " 0.0441162525577244,\n",
       " 0.0440558961389636,\n",
       " 0.0440241893621133,\n",
       " 0.0439847149284792,\n",
       " 0.0439673049943239,\n",
       " 0.0445960303087224,\n",
       " 0.0452192805808668,\n",
       " 0.0457405469938892,\n",
       " 0.0462667757826477,\n",
       " 0.0454034304748268,\n",
       " 0.0446907197802319,\n",
       " 0.0442024041221791,\n",
       " 0.0437855205518118,\n",
       " 0.0439949890625734,\n",
       " 0.0443260766708919,\n",
       " 0.0447607075787995,\n",
       " 0.0453363960541384,\n",
       " 0.0447678553088386,\n",
       " 0.0442739345433084,\n",
       " 0.0438760897604117,\n",
       " 0.0435447088853171,\n",
       " 0.0437356778426022,\n",
       " 0.0440673597199459,\n",
       " 0.0445166845379155,\n",
       " 0.0450617603316001,\n",
       " 0.0445766513811839,\n",
       " 0.0440956141424304,\n",
       " 0.0437336683427831,\n",
       " 0.043414985765672,\n",
       " 0.0436160284356184]"
      ]
     },
     "execution_count": 66,
     "metadata": {},
     "output_type": "execute_result"
    }
   ],
   "source": [
    "train_loss_hist"
   ]
  },
  {
   "cell_type": "code",
   "execution_count": 67,
   "id": "37ba9d10",
   "metadata": {
    "scrolled": true
   },
   "outputs": [
    {
     "data": {
      "text/plain": [
       "[0.0,\n",
       " 0.9386051297187804,\n",
       " 0.93883216381073,\n",
       " 0.9385927319526672,\n",
       " 0.938714563846588,\n",
       " 0.9387707710266112,\n",
       " 0.9387677907943726,\n",
       " 0.9386451244354248,\n",
       " 0.938869297504425,\n",
       " 0.938758909702301,\n",
       " 0.9388419389724731,\n",
       " 0.938504695892334,\n",
       " 0.938554584980011,\n",
       " 0.9386414885520936,\n",
       " 0.9385855793952942,\n",
       " 0.9387215971946716,\n",
       " 0.9386583566665648,\n",
       " 0.9385204911231996,\n",
       " 0.938688099384308,\n",
       " 0.9387499690055848,\n",
       " 0.9387664794921876,\n",
       " 0.9387321472167968,\n",
       " 0.9387124180793762,\n",
       " 0.9389349818229676,\n",
       " 0.9388492107391356,\n",
       " 0.93886536359787,\n",
       " 0.9385290741920472,\n",
       " 0.9386196136474608,\n",
       " 0.938360333442688,\n",
       " 0.9382447004318236,\n",
       " 0.9384278655052184,\n",
       " 0.9385928511619568,\n",
       " 0.9388226866722108,\n",
       " 0.9389408230781556,\n",
       " 0.9388815760612488,\n",
       " 0.9387144446372986,\n",
       " 0.9384163618087769,\n",
       " 0.9381049871444702,\n",
       " 0.9384825229644777,\n",
       " 0.938833713531494,\n",
       " 0.9388223886489868,\n",
       " 0.93892502784729,\n",
       " 0.9388417601585388,\n",
       " 0.9388383030891418,\n",
       " 0.938608944416046,\n",
       " 0.9383255243301392,\n",
       " 0.9386244416236876,\n",
       " 0.93882554769516,\n",
       " 0.9388175010681152,\n",
       " 0.9389293789863586,\n",
       " 0.9389135241508484]"
      ]
     },
     "execution_count": 67,
     "metadata": {},
     "output_type": "execute_result"
    }
   ],
   "source": [
    "valid_acc_hist"
   ]
  },
  {
   "cell_type": "code",
   "execution_count": 68,
   "id": "a98b0627",
   "metadata": {
    "scrolled": true
   },
   "outputs": [
    {
     "name": "stderr",
     "output_type": "stream",
     "text": [
      "Epoch 39:   0%|          | 1/30402 [00:00<1:21:38,  6.21it/s, acc=0.946, loss=0.039, running_train_accuracy=0.946, running_train_loss=0.039]"
     ]
    },
    {
     "name": "stdout",
     "output_type": "stream",
     "text": [
      "torch.Size([16, 1, 513, 25])\n",
      "torch.Size([16, 32, 513, 25])\n",
      "torch.Size([16, 16, 513, 25])\n",
      "torch.Size([16, 16, 171, 8])\n",
      "torch.Size([16, 64, 171, 8])\n",
      "torch.Size([16, 16, 171, 8])\n",
      "torch.Size([16, 16, 57, 2])\n",
      "torch.Size([16, 1824])\n",
      "torch.Size([16, 128])\n",
      "torch.Size([16, 513])\n",
      "torch.Size([16, 1, 513, 25])\n",
      "torch.Size([16, 32, 513, 25])\n",
      "torch.Size([16, 16, 513, 25])\n",
      "torch.Size([16, 16, 171, 8])\n",
      "torch.Size([16, 64, 171, 8])\n",
      "torch.Size([16, 16, 171, 8])\n",
      "torch.Size([16, 16, 57, 2])\n",
      "torch.Size([16, 1824])\n",
      "torch.Size([16, 128])\n",
      "torch.Size([16, 513])\n"
     ]
    },
    {
     "name": "stderr",
     "output_type": "stream",
     "text": [
      "Epoch 39:   0%|          | 7/30402 [00:00<22:46, 22.25it/s, acc=0.954, loss=0.0381, running_train_accuracy=0.941, running_train_loss=0.0638]  "
     ]
    },
    {
     "name": "stdout",
     "output_type": "stream",
     "text": [
      "torch.Size([16, 1, 513, 25])\n",
      "torch.Size([16, 32, 513, 25])\n",
      "torch.Size([16, 16, 513, 25])\n",
      "torch.Size([16, 16, 171, 8])\n",
      "torch.Size([16, 64, 171, 8])\n",
      "torch.Size([16, 16, 171, 8])\n",
      "torch.Size([16, 16, 57, 2])\n",
      "torch.Size([16, 1824])\n",
      "torch.Size([16, 128])\n",
      "torch.Size([16, 513])\n",
      "torch.Size([16, 1, 513, 25])\n",
      "torch.Size([16, 32, 513, 25])\n",
      "torch.Size([16, 16, 513, 25])\n",
      "torch.Size([16, 16, 171, 8])\n",
      "torch.Size([16, 64, 171, 8])\n",
      "torch.Size([16, 16, 171, 8])\n",
      "torch.Size([16, 16, 57, 2])\n",
      "torch.Size([16, 1824])\n",
      "torch.Size([16, 128])\n",
      "torch.Size([16, 513])\n",
      "torch.Size([16, 1, 513, 25])\n",
      "torch.Size([16, 32, 513, 25])\n",
      "torch.Size([16, 16, 513, 25])\n",
      "torch.Size([16, 16, 171, 8])\n",
      "torch.Size([16, 64, 171, 8])\n",
      "torch.Size([16, 16, 171, 8])\n",
      "torch.Size([16, 16, 57, 2])\n",
      "torch.Size([16, 1824])\n",
      "torch.Size([16, 128])\n",
      "torch.Size([16, 513])\n",
      "torch.Size([16, 1, 513, 25])\n",
      "torch.Size([16, 32, 513, 25])\n",
      "torch.Size([16, 16, 513, 25])\n",
      "torch.Size([16, 16, 171, 8])\n",
      "torch.Size([16, 64, 171, 8])\n",
      "torch.Size([16, 16, 171, 8])\n",
      "torch.Size([16, 16, 57, 2])\n",
      "torch.Size([16, 1824])\n",
      "torch.Size([16, 128])\n",
      "torch.Size([16, 513])\n",
      "torch.Size([16, 1, 513, 25])\n",
      "torch.Size([16, 32, 513, 25])\n",
      "torch.Size([16, 16, 513, 25])\n",
      "torch.Size([16, 16, 171, 8])\n",
      "torch.Size([16, 64, 171, 8])\n",
      "torch.Size([16, 16, 171, 8])\n",
      "torch.Size([16, 16, 57, 2])\n",
      "torch.Size([16, 1824])\n",
      "torch.Size([16, 128])\n",
      "torch.Size([16, 513])\n",
      "torch.Size([16, 1, 513, 25])\n",
      "torch.Size([16, 32, 513, 25])\n",
      "torch.Size([16, 16, 513, 25])\n",
      "torch.Size([16, 16, 171, 8])\n",
      "torch.Size([16, 64, 171, 8])\n",
      "torch.Size([16, 16, 171, 8])\n",
      "torch.Size([16, 16, 57, 2])\n",
      "torch.Size([16, 1824])\n",
      "torch.Size([16, 128])\n",
      "torch.Size([16, 513])\n",
      "torch.Size([16, 1, 513, 25])\n",
      "torch.Size([16, 32, 513, 25])\n",
      "torch.Size([16, 16, 513, 25])\n",
      "torch.Size([16, 16, 171, 8])\n",
      "torch.Size([16, 64, 171, 8])\n",
      "torch.Size([16, 16, 171, 8])\n",
      "torch.Size([16, 16, 57, 2])\n",
      "torch.Size([16, 1824])\n",
      "torch.Size([16, 128])\n",
      "torch.Size([16, 513])\n",
      "torch.Size([16, 1, 513, 25])\n",
      "torch.Size([16, 32, 513, 25])\n",
      "torch.Size([16, 16, 513, 25])\n",
      "torch.Size([16, 16, 171, 8])\n",
      "torch.Size([16, 64, 171, 8])\n",
      "torch.Size([16, 16, 171, 8])\n",
      "torch.Size([16, 16, 57, 2])\n",
      "torch.Size([16, 1824])\n",
      "torch.Size([16, 128])\n",
      "torch.Size([16, 513])\n",
      "torch.Size([16, 1, 513, 25])\n",
      "torch.Size([16, 32, 513, 25])\n",
      "torch.Size([16, 16, 513, 25])\n",
      "torch.Size([16, 16, 171, 8])\n",
      "torch.Size([16, 64, 171, 8])\n",
      "torch.Size([16, 16, 171, 8])\n",
      "torch.Size([16, 16, 57, 2])\n",
      "torch.Size([16, 1824])\n",
      "torch.Size([16, 128])\n",
      "torch.Size([16, 513])\n"
     ]
    },
    {
     "name": "stderr",
     "output_type": "stream",
     "text": [
      "Epoch 39:   0%|          | 17/30402 [00:00<14:23, 35.20it/s, acc=0.941, loss=0.0486, running_train_accuracy=0.942, running_train_loss=0.0505]"
     ]
    },
    {
     "name": "stdout",
     "output_type": "stream",
     "text": [
      "torch.Size([16, 1, 513, 25])\n",
      "torch.Size([16, 32, 513, 25])\n",
      "torch.Size([16, 16, 513, 25])\n",
      "torch.Size([16, 16, 171, 8])\n",
      "torch.Size([16, 64, 171, 8])\n",
      "torch.Size([16, 16, 171, 8])\n",
      "torch.Size([16, 16, 57, 2])\n",
      "torch.Size([16, 1824])\n",
      "torch.Size([16, 128])\n",
      "torch.Size([16, 513])\n",
      "torch.Size([16, 1, 513, 25])\n",
      "torch.Size([16, 32, 513, 25])\n",
      "torch.Size([16, 16, 513, 25])\n",
      "torch.Size([16, 16, 171, 8])\n",
      "torch.Size([16, 64, 171, 8])\n",
      "torch.Size([16, 16, 171, 8])\n",
      "torch.Size([16, 16, 57, 2])\n",
      "torch.Size([16, 1824])\n",
      "torch.Size([16, 128])\n",
      "torch.Size([16, 513])\n",
      "torch.Size([16, 1, 513, 25])\n",
      "torch.Size([16, 32, 513, 25])\n",
      "torch.Size([16, 16, 513, 25])\n",
      "torch.Size([16, 16, 171, 8])\n",
      "torch.Size([16, 64, 171, 8])\n",
      "torch.Size([16, 16, 171, 8])\n",
      "torch.Size([16, 16, 57, 2])\n",
      "torch.Size([16, 1824])\n",
      "torch.Size([16, 128])\n",
      "torch.Size([16, 513])\n",
      "torch.Size([16, 1, 513, 25])\n",
      "torch.Size([16, 32, 513, 25])\n",
      "torch.Size([16, 16, 513, 25])\n",
      "torch.Size([16, 16, 171, 8])\n",
      "torch.Size([16, 64, 171, 8])\n",
      "torch.Size([16, 16, 171, 8])\n",
      "torch.Size([16, 16, 57, 2])\n",
      "torch.Size([16, 1824])\n",
      "torch.Size([16, 128])\n",
      "torch.Size([16, 513])\n",
      "torch.Size([16, 1, 513, 25])\n",
      "torch.Size([16, 32, 513, 25])\n",
      "torch.Size([16, 16, 513, 25])\n",
      "torch.Size([16, 16, 171, 8])\n",
      "torch.Size([16, 64, 171, 8])\n",
      "torch.Size([16, 16, 171, 8])\n",
      "torch.Size([16, 16, 57, 2])\n",
      "torch.Size([16, 1824])\n",
      "torch.Size([16, 128])\n",
      "torch.Size([16, 513])\n",
      "torch.Size([16, 1, 513, 25])\n",
      "torch.Size([16, 32, 513, 25])\n",
      "torch.Size([16, 16, 513, 25])\n",
      "torch.Size([16, 16, 171, 8])\n",
      "torch.Size([16, 64, 171, 8])\n",
      "torch.Size([16, 16, 171, 8])\n",
      "torch.Size([16, 16, 57, 2])\n",
      "torch.Size([16, 1824])\n",
      "torch.Size([16, 128])\n",
      "torch.Size([16, 513])\n",
      "torch.Size([16, 1, 513, 25])\n",
      "torch.Size([16, 32, 513, 25])\n",
      "torch.Size([16, 16, 513, 25])\n",
      "torch.Size([16, 16, 171, 8])\n",
      "torch.Size([16, 64, 171, 8])\n",
      "torch.Size([16, 16, 171, 8])\n",
      "torch.Size([16, 16, 57, 2])\n",
      "torch.Size([16, 1824])\n",
      "torch.Size([16, 128])\n",
      "torch.Size([16, 513])\n",
      "torch.Size([16, 1, 513, 25])\n",
      "torch.Size([16, 32, 513, 25])\n",
      "torch.Size([16, 16, 513, 25])\n",
      "torch.Size([16, 16, 171, 8])\n",
      "torch.Size([16, 64, 171, 8])\n",
      "torch.Size([16, 16, 171, 8])\n",
      "torch.Size([16, 16, 57, 2])\n",
      "torch.Size([16, 1824])\n",
      "torch.Size([16, 128])\n",
      "torch.Size([16, 513])\n",
      "torch.Size([16, 1, 513, 25])\n",
      "torch.Size([16, 32, 513, 25])\n",
      "torch.Size([16, 16, 513, 25])\n",
      "torch.Size([16, 16, 171, 8])\n",
      "torch.Size([16, 64, 171, 8])\n",
      "torch.Size([16, 16, 171, 8])\n",
      "torch.Size([16, 16, 57, 2])\n",
      "torch.Size([16, 1824])\n",
      "torch.Size([16, 128])\n",
      "torch.Size([16, 513])\n"
     ]
    },
    {
     "name": "stderr",
     "output_type": "stream",
     "text": [
      "Epoch 39:   0%|          | 27/30402 [00:00<12:46, 39.61it/s, acc=0.941, loss=0.0478, running_train_accuracy=0.944, running_train_loss=0.0458]"
     ]
    },
    {
     "name": "stdout",
     "output_type": "stream",
     "text": [
      "torch.Size([16, 1, 513, 25])\n",
      "torch.Size([16, 32, 513, 25])\n",
      "torch.Size([16, 16, 513, 25])\n",
      "torch.Size([16, 16, 171, 8])\n",
      "torch.Size([16, 64, 171, 8])\n",
      "torch.Size([16, 16, 171, 8])\n",
      "torch.Size([16, 16, 57, 2])\n",
      "torch.Size([16, 1824])\n",
      "torch.Size([16, 128])\n",
      "torch.Size([16, 513])\n",
      "torch.Size([16, 1, 513, 25])\n",
      "torch.Size([16, 32, 513, 25])\n",
      "torch.Size([16, 16, 513, 25])\n",
      "torch.Size([16, 16, 171, 8])\n",
      "torch.Size([16, 64, 171, 8])\n",
      "torch.Size([16, 16, 171, 8])\n",
      "torch.Size([16, 16, 57, 2])\n",
      "torch.Size([16, 1824])\n",
      "torch.Size([16, 128])\n",
      "torch.Size([16, 513])\n",
      "torch.Size([16, 1, 513, 25])\n",
      "torch.Size([16, 32, 513, 25])\n",
      "torch.Size([16, 16, 513, 25])\n",
      "torch.Size([16, 16, 171, 8])\n",
      "torch.Size([16, 64, 171, 8])\n",
      "torch.Size([16, 16, 171, 8])\n",
      "torch.Size([16, 16, 57, 2])\n",
      "torch.Size([16, 1824])\n",
      "torch.Size([16, 128])\n",
      "torch.Size([16, 513])\n",
      "torch.Size([16, 1, 513, 25])\n",
      "torch.Size([16, 32, 513, 25])\n",
      "torch.Size([16, 16, 513, 25])\n",
      "torch.Size([16, 16, 171, 8])\n",
      "torch.Size([16, 64, 171, 8])\n",
      "torch.Size([16, 16, 171, 8])\n",
      "torch.Size([16, 16, 57, 2])\n",
      "torch.Size([16, 1824])\n",
      "torch.Size([16, 128])\n",
      "torch.Size([16, 513])\n",
      "torch.Size([16, 1, 513, 25])\n",
      "torch.Size([16, 32, 513, 25])\n",
      "torch.Size([16, 16, 513, 25])\n",
      "torch.Size([16, 16, 171, 8])\n",
      "torch.Size([16, 64, 171, 8])\n",
      "torch.Size([16, 16, 171, 8])\n",
      "torch.Size([16, 16, 57, 2])\n",
      "torch.Size([16, 1824])\n",
      "torch.Size([16, 128])\n",
      "torch.Size([16, 513])\n",
      "torch.Size([16, 1, 513, 25])\n",
      "torch.Size([16, 32, 513, 25])\n",
      "torch.Size([16, 16, 513, 25])\n",
      "torch.Size([16, 16, 171, 8])\n",
      "torch.Size([16, 64, 171, 8])\n",
      "torch.Size([16, 16, 171, 8])\n",
      "torch.Size([16, 16, 57, 2])\n",
      "torch.Size([16, 1824])\n",
      "torch.Size([16, 128])\n",
      "torch.Size([16, 513])\n",
      "torch.Size([16, 1, 513, 25])\n",
      "torch.Size([16, 32, 513, 25])\n",
      "torch.Size([16, 16, 513, 25])\n",
      "torch.Size([16, 16, 171, 8])\n",
      "torch.Size([16, 64, 171, 8])\n",
      "torch.Size([16, 16, 171, 8])\n",
      "torch.Size([16, 16, 57, 2])\n",
      "torch.Size([16, 1824])\n",
      "torch.Size([16, 128])\n",
      "torch.Size([16, 513])\n",
      "torch.Size([16, 1, 513, 25])\n",
      "torch.Size([16, 32, 513, 25])\n",
      "torch.Size([16, 16, 513, 25])\n",
      "torch.Size([16, 16, 171, 8])\n",
      "torch.Size([16, 64, 171, 8])\n",
      "torch.Size([16, 16, 171, 8])\n",
      "torch.Size([16, 16, 57, 2])\n",
      "torch.Size([16, 1824])\n",
      "torch.Size([16, 128])\n",
      "torch.Size([16, 513])\n",
      "torch.Size([16, 1, 513, 25])\n",
      "torch.Size([16, 32, 513, 25])\n",
      "torch.Size([16, 16, 513, 25])\n",
      "torch.Size([16, 16, 171, 8])\n",
      "torch.Size([16, 64, 171, 8])\n",
      "torch.Size([16, 16, 171, 8])\n",
      "torch.Size([16, 16, 57, 2])\n",
      "torch.Size([16, 1824])\n",
      "torch.Size([16, 128])\n",
      "torch.Size([16, 513])\n"
     ]
    },
    {
     "name": "stderr",
     "output_type": "stream",
     "text": [
      "Epoch 39:   0%|          | 32/30402 [00:01<12:26, 40.70it/s, acc=0.927, loss=0.0566, running_train_accuracy=0.942, running_train_loss=0.0513]"
     ]
    },
    {
     "name": "stdout",
     "output_type": "stream",
     "text": [
      "torch.Size([16, 1, 513, 25])\n",
      "torch.Size([16, 32, 513, 25])\n",
      "torch.Size([16, 16, 513, 25])\n",
      "torch.Size([16, 16, 171, 8])\n",
      "torch.Size([16, 64, 171, 8])\n",
      "torch.Size([16, 16, 171, 8])\n",
      "torch.Size([16, 16, 57, 2])\n",
      "torch.Size([16, 1824])\n",
      "torch.Size([16, 128])\n",
      "torch.Size([16, 513])\n",
      "torch.Size([16, 1, 513, 25])\n",
      "torch.Size([16, 32, 513, 25])\n",
      "torch.Size([16, 16, 513, 25])\n",
      "torch.Size([16, 16, 171, 8])\n",
      "torch.Size([16, 64, 171, 8])\n",
      "torch.Size([16, 16, 171, 8])\n",
      "torch.Size([16, 16, 57, 2])\n",
      "torch.Size([16, 1824])\n",
      "torch.Size([16, 128])\n",
      "torch.Size([16, 513])\n",
      "torch.Size([16, 1, 513, 25])\n",
      "torch.Size([16, 32, 513, 25])\n",
      "torch.Size([16, 16, 513, 25])\n",
      "torch.Size([16, 16, 171, 8])\n",
      "torch.Size([16, 64, 171, 8])\n",
      "torch.Size([16, 16, 171, 8])\n",
      "torch.Size([16, 16, 57, 2])\n",
      "torch.Size([16, 1824])\n",
      "torch.Size([16, 128])\n",
      "torch.Size([16, 513])\n",
      "torch.Size([16, 1, 513, 25])\n",
      "torch.Size([16, 32, 513, 25])\n",
      "torch.Size([16, 16, 513, 25])\n",
      "torch.Size([16, 16, 171, 8])\n",
      "torch.Size([16, 64, 171, 8])\n",
      "torch.Size([16, 16, 171, 8])\n",
      "torch.Size([16, 16, 57, 2])\n",
      "torch.Size([16, 1824])\n",
      "torch.Size([16, 128])\n",
      "torch.Size([16, 513])\n",
      "torch.Size([16, 1, 513, 25])\n",
      "torch.Size([16, 32, 513, 25])\n",
      "torch.Size([16, 16, 513, 25])\n",
      "torch.Size([16, 16, 171, 8])\n",
      "torch.Size([16, 64, 171, 8])\n",
      "torch.Size([16, 16, 171, 8])\n",
      "torch.Size([16, 16, 57, 2])\n",
      "torch.Size([16, 1824])\n",
      "torch.Size([16, 128])\n",
      "torch.Size([16, 513])\n",
      "torch.Size([16, 1, 513, 25])\n",
      "torch.Size([16, 32, 513, 25])\n",
      "torch.Size([16, 16, 513, 25])\n",
      "torch.Size([16, 16, 171, 8])\n",
      "torch.Size([16, 64, 171, 8])\n",
      "torch.Size([16, 16, 171, 8])\n",
      "torch.Size([16, 16, 57, 2])\n",
      "torch.Size([16, 1824])\n",
      "torch.Size([16, 128])\n",
      "torch.Size([16, 513])\n",
      "torch.Size([16, 1, 513, 25])\n",
      "torch.Size([16, 32, 513, 25])\n",
      "torch.Size([16, 16, 513, 25])\n",
      "torch.Size([16, 16, 171, 8])\n",
      "torch.Size([16, 64, 171, 8])\n",
      "torch.Size([16, 16, 171, 8])\n",
      "torch.Size([16, 16, 57, 2])\n",
      "torch.Size([16, 1824])\n",
      "torch.Size([16, 128])\n",
      "torch.Size([16, 513])\n",
      "torch.Size([16, 1, 513, 25])\n",
      "torch.Size([16, 32, 513, 25])\n",
      "torch.Size([16, 16, 513, 25])\n",
      "torch.Size([16, 16, 171, 8])\n",
      "torch.Size([16, 64, 171, 8])\n",
      "torch.Size([16, 16, 171, 8])\n",
      "torch.Size([16, 16, 57, 2])\n",
      "torch.Size([16, 1824])\n",
      "torch.Size([16, 128])\n",
      "torch.Size([16, 513])\n"
     ]
    },
    {
     "name": "stderr",
     "output_type": "stream",
     "text": [
      "Epoch 39:   0%|          | 42/30402 [00:01<12:14, 41.35it/s, acc=0.962, loss=0.0304, running_train_accuracy=0.943, running_train_loss=0.0472]"
     ]
    },
    {
     "name": "stdout",
     "output_type": "stream",
     "text": [
      "torch.Size([16, 1, 513, 25])\n",
      "torch.Size([16, 32, 513, 25])\n",
      "torch.Size([16, 16, 513, 25])\n",
      "torch.Size([16, 16, 171, 8])\n",
      "torch.Size([16, 64, 171, 8])\n",
      "torch.Size([16, 16, 171, 8])\n",
      "torch.Size([16, 16, 57, 2])\n",
      "torch.Size([16, 1824])\n",
      "torch.Size([16, 128])\n",
      "torch.Size([16, 513])\n",
      "torch.Size([16, 1, 513, 25])\n",
      "torch.Size([16, 32, 513, 25])\n",
      "torch.Size([16, 16, 513, 25])\n",
      "torch.Size([16, 16, 171, 8])\n",
      "torch.Size([16, 64, 171, 8])\n",
      "torch.Size([16, 16, 171, 8])\n",
      "torch.Size([16, 16, 57, 2])\n",
      "torch.Size([16, 1824])\n",
      "torch.Size([16, 128])\n",
      "torch.Size([16, 513])\n",
      "torch.Size([16, 1, 513, 25])\n",
      "torch.Size([16, 32, 513, 25])\n",
      "torch.Size([16, 16, 513, 25])\n",
      "torch.Size([16, 16, 171, 8])\n",
      "torch.Size([16, 64, 171, 8])\n",
      "torch.Size([16, 16, 171, 8])\n",
      "torch.Size([16, 16, 57, 2])\n",
      "torch.Size([16, 1824])\n",
      "torch.Size([16, 128])\n",
      "torch.Size([16, 513])\n",
      "torch.Size([16, 1, 513, 25])\n",
      "torch.Size([16, 32, 513, 25])\n",
      "torch.Size([16, 16, 513, 25])\n",
      "torch.Size([16, 16, 171, 8])\n",
      "torch.Size([16, 64, 171, 8])\n",
      "torch.Size([16, 16, 171, 8])\n",
      "torch.Size([16, 16, 57, 2])\n",
      "torch.Size([16, 1824])\n",
      "torch.Size([16, 128])\n",
      "torch.Size([16, 513])\n",
      "torch.Size([16, 1, 513, 25])\n",
      "torch.Size([16, 32, 513, 25])\n",
      "torch.Size([16, 16, 513, 25])\n",
      "torch.Size([16, 16, 171, 8])\n",
      "torch.Size([16, 64, 171, 8])\n",
      "torch.Size([16, 16, 171, 8])\n",
      "torch.Size([16, 16, 57, 2])\n",
      "torch.Size([16, 1824])\n",
      "torch.Size([16, 128])\n",
      "torch.Size([16, 513])\n",
      "torch.Size([16, 1, 513, 25])\n",
      "torch.Size([16, 32, 513, 25])\n",
      "torch.Size([16, 16, 513, 25])\n",
      "torch.Size([16, 16, 171, 8])\n",
      "torch.Size([16, 64, 171, 8])\n",
      "torch.Size([16, 16, 171, 8])\n",
      "torch.Size([16, 16, 57, 2])\n",
      "torch.Size([16, 1824])\n",
      "torch.Size([16, 128])\n",
      "torch.Size([16, 513])\n",
      "torch.Size([16, 1, 513, 25])\n",
      "torch.Size([16, 32, 513, 25])\n",
      "torch.Size([16, 16, 513, 25])\n",
      "torch.Size([16, 16, 171, 8])\n",
      "torch.Size([16, 64, 171, 8])\n",
      "torch.Size([16, 16, 171, 8])\n",
      "torch.Size([16, 16, 57, 2])\n",
      "torch.Size([16, 1824])\n",
      "torch.Size([16, 128])\n",
      "torch.Size([16, 513])\n",
      "torch.Size([16, 1, 513, 25])\n",
      "torch.Size([16, 32, 513, 25])\n",
      "torch.Size([16, 16, 513, 25])\n",
      "torch.Size([16, 16, 171, 8])\n",
      "torch.Size([16, 64, 171, 8])\n",
      "torch.Size([16, 16, 171, 8])\n",
      "torch.Size([16, 16, 57, 2])\n",
      "torch.Size([16, 1824])\n",
      "torch.Size([16, 128])\n",
      "torch.Size([16, 513])\n"
     ]
    },
    {
     "name": "stderr",
     "output_type": "stream",
     "text": [
      "Epoch 39:   0%|          | 52/30402 [00:01<11:56, 42.34it/s, acc=0.916, loss=0.0693, running_train_accuracy=0.942, running_train_loss=0.0458]"
     ]
    },
    {
     "name": "stdout",
     "output_type": "stream",
     "text": [
      "torch.Size([16, 1, 513, 25])\n",
      "torch.Size([16, 32, 513, 25])\n",
      "torch.Size([16, 16, 513, 25])\n",
      "torch.Size([16, 16, 171, 8])\n",
      "torch.Size([16, 64, 171, 8])\n",
      "torch.Size([16, 16, 171, 8])\n",
      "torch.Size([16, 16, 57, 2])\n",
      "torch.Size([16, 1824])\n",
      "torch.Size([16, 128])\n",
      "torch.Size([16, 513])\n",
      "torch.Size([16, 1, 513, 25])\n",
      "torch.Size([16, 32, 513, 25])\n",
      "torch.Size([16, 16, 513, 25])\n",
      "torch.Size([16, 16, 171, 8])\n",
      "torch.Size([16, 64, 171, 8])\n",
      "torch.Size([16, 16, 171, 8])\n",
      "torch.Size([16, 16, 57, 2])\n",
      "torch.Size([16, 1824])\n",
      "torch.Size([16, 128])\n",
      "torch.Size([16, 513])\n",
      "torch.Size([16, 1, 513, 25])\n",
      "torch.Size([16, 32, 513, 25])\n",
      "torch.Size([16, 16, 513, 25])\n",
      "torch.Size([16, 16, 171, 8])\n",
      "torch.Size([16, 64, 171, 8])\n",
      "torch.Size([16, 16, 171, 8])\n",
      "torch.Size([16, 16, 57, 2])\n",
      "torch.Size([16, 1824])\n",
      "torch.Size([16, 128])\n",
      "torch.Size([16, 513])\n",
      "torch.Size([16, 1, 513, 25])\n",
      "torch.Size([16, 32, 513, 25])\n",
      "torch.Size([16, 16, 513, 25])\n",
      "torch.Size([16, 16, 171, 8])\n",
      "torch.Size([16, 64, 171, 8])\n",
      "torch.Size([16, 16, 171, 8])\n",
      "torch.Size([16, 16, 57, 2])\n",
      "torch.Size([16, 1824])\n",
      "torch.Size([16, 128])\n",
      "torch.Size([16, 513])\n",
      "torch.Size([16, 1, 513, 25])\n",
      "torch.Size([16, 32, 513, 25])\n",
      "torch.Size([16, 16, 513, 25])\n",
      "torch.Size([16, 16, 171, 8])\n",
      "torch.Size([16, 64, 171, 8])\n",
      "torch.Size([16, 16, 171, 8])\n",
      "torch.Size([16, 16, 57, 2])\n",
      "torch.Size([16, 1824])\n",
      "torch.Size([16, 128])\n",
      "torch.Size([16, 513])\n",
      "torch.Size([16, 1, 513, 25])\n",
      "torch.Size([16, 32, 513, 25])\n",
      "torch.Size([16, 16, 513, 25])\n",
      "torch.Size([16, 16, 171, 8])\n",
      "torch.Size([16, 64, 171, 8])\n",
      "torch.Size([16, 16, 171, 8])\n",
      "torch.Size([16, 16, 57, 2])\n",
      "torch.Size([16, 1824])\n",
      "torch.Size([16, 128])\n",
      "torch.Size([16, 513])\n",
      "torch.Size([16, 1, 513, 25])\n",
      "torch.Size([16, 32, 513, 25])\n",
      "torch.Size([16, 16, 513, 25])\n",
      "torch.Size([16, 16, 171, 8])\n",
      "torch.Size([16, 64, 171, 8])\n",
      "torch.Size([16, 16, 171, 8])\n",
      "torch.Size([16, 16, 57, 2])\n",
      "torch.Size([16, 1824])\n",
      "torch.Size([16, 128])\n",
      "torch.Size([16, 513])\n",
      "torch.Size([16, 1, 513, 25])\n",
      "torch.Size([16, 32, 513, 25])\n",
      "torch.Size([16, 16, 513, 25])\n",
      "torch.Size([16, 16, 171, 8])\n",
      "torch.Size([16, 64, 171, 8])\n",
      "torch.Size([16, 16, 171, 8])\n",
      "torch.Size([16, 16, 57, 2])\n",
      "torch.Size([16, 1824])\n",
      "torch.Size([16, 128])\n",
      "torch.Size([16, 513])\n"
     ]
    },
    {
     "name": "stderr",
     "output_type": "stream",
     "text": [
      "Epoch 39:   0%|          | 57/30402 [00:01<11:54, 42.45it/s, acc=0.915, loss=0.0607, running_train_accuracy=0.941, running_train_loss=0.0492]"
     ]
    },
    {
     "name": "stdout",
     "output_type": "stream",
     "text": [
      "torch.Size([16, 1, 513, 25])\n",
      "torch.Size([16, 32, 513, 25])\n",
      "torch.Size([16, 16, 513, 25])\n",
      "torch.Size([16, 16, 171, 8])\n",
      "torch.Size([16, 64, 171, 8])\n",
      "torch.Size([16, 16, 171, 8])\n",
      "torch.Size([16, 16, 57, 2])\n",
      "torch.Size([16, 1824])\n",
      "torch.Size([16, 128])\n",
      "torch.Size([16, 513])\n",
      "torch.Size([16, 1, 513, 25])\n",
      "torch.Size([16, 32, 513, 25])\n",
      "torch.Size([16, 16, 513, 25])\n",
      "torch.Size([16, 16, 171, 8])\n",
      "torch.Size([16, 64, 171, 8])\n",
      "torch.Size([16, 16, 171, 8])\n",
      "torch.Size([16, 16, 57, 2])\n",
      "torch.Size([16, 1824])\n",
      "torch.Size([16, 128])\n",
      "torch.Size([16, 513])\n",
      "torch.Size([16, 1, 513, 25])\n",
      "torch.Size([16, 32, 513, 25])\n",
      "torch.Size([16, 16, 513, 25])\n",
      "torch.Size([16, 16, 171, 8])\n",
      "torch.Size([16, 64, 171, 8])\n",
      "torch.Size([16, 16, 171, 8])\n",
      "torch.Size([16, 16, 57, 2])\n",
      "torch.Size([16, 1824])\n",
      "torch.Size([16, 128])\n",
      "torch.Size([16, 513])\n",
      "torch.Size([16, 1, 513, 25])\n",
      "torch.Size([16, 32, 513, 25])\n",
      "torch.Size([16, 16, 513, 25])\n",
      "torch.Size([16, 16, 171, 8])\n",
      "torch.Size([16, 64, 171, 8])\n",
      "torch.Size([16, 16, 171, 8])\n",
      "torch.Size([16, 16, 57, 2])\n",
      "torch.Size([16, 1824])\n",
      "torch.Size([16, 128])\n",
      "torch.Size([16, 513])\n",
      "torch.Size([16, 1, 513, 25])\n",
      "torch.Size([16, 32, 513, 25])\n",
      "torch.Size([16, 16, 513, 25])\n",
      "torch.Size([16, 16, 171, 8])\n",
      "torch.Size([16, 64, 171, 8])\n",
      "torch.Size([16, 16, 171, 8])\n",
      "torch.Size([16, 16, 57, 2])\n",
      "torch.Size([16, 1824])\n",
      "torch.Size([16, 128])\n",
      "torch.Size([16, 513])\n",
      "torch.Size([16, 1, 513, 25])\n",
      "torch.Size([16, 32, 513, 25])\n",
      "torch.Size([16, 16, 513, 25])\n",
      "torch.Size([16, 16, 171, 8])\n",
      "torch.Size([16, 64, 171, 8])\n",
      "torch.Size([16, 16, 171, 8])\n",
      "torch.Size([16, 16, 57, 2])\n",
      "torch.Size([16, 1824])\n",
      "torch.Size([16, 128])\n",
      "torch.Size([16, 513])\n",
      "torch.Size([16, 1, 513, 25])\n",
      "torch.Size([16, 32, 513, 25])\n",
      "torch.Size([16, 16, 513, 25])\n",
      "torch.Size([16, 16, 171, 8])\n",
      "torch.Size([16, 64, 171, 8])\n",
      "torch.Size([16, 16, 171, 8])\n",
      "torch.Size([16, 16, 57, 2])\n",
      "torch.Size([16, 1824])\n",
      "torch.Size([16, 128])\n",
      "torch.Size([16, 513])\n",
      "torch.Size([16, 1, 513, 25])\n",
      "torch.Size([16, 32, 513, 25])\n",
      "torch.Size([16, 16, 513, 25])\n",
      "torch.Size([16, 16, 171, 8])\n",
      "torch.Size([16, 64, 171, 8])\n",
      "torch.Size([16, 16, 171, 8])\n",
      "torch.Size([16, 16, 57, 2])\n",
      "torch.Size([16, 1824])\n",
      "torch.Size([16, 128])\n",
      "torch.Size([16, 513])\n",
      "torch.Size([16, 1, 513, 25])\n",
      "torch.Size([16, 32, 513, 25])\n",
      "torch.Size([16, 16, 513, 25])\n",
      "torch.Size([16, 16, 171, 8])\n",
      "torch.Size([16, 64, 171, 8])\n",
      "torch.Size([16, 16, 171, 8])\n",
      "torch.Size([16, 16, 57, 2])\n",
      "torch.Size([16, 1824])\n",
      "torch.Size([16, 128])\n",
      "torch.Size([16, 513])\n"
     ]
    },
    {
     "name": "stderr",
     "output_type": "stream",
     "text": [
      "Epoch 39:   0%|          | 67/30402 [00:01<11:44, 43.03it/s, acc=0.927, loss=0.0516, running_train_accuracy=0.942, running_train_loss=0.048] "
     ]
    },
    {
     "name": "stdout",
     "output_type": "stream",
     "text": [
      "torch.Size([16, 1, 513, 25])\n",
      "torch.Size([16, 32, 513, 25])\n",
      "torch.Size([16, 16, 513, 25])\n",
      "torch.Size([16, 16, 171, 8])\n",
      "torch.Size([16, 64, 171, 8])\n",
      "torch.Size([16, 16, 171, 8])\n",
      "torch.Size([16, 16, 57, 2])\n",
      "torch.Size([16, 1824])\n",
      "torch.Size([16, 128])\n",
      "torch.Size([16, 513])\n",
      "torch.Size([16, 1, 513, 25])\n",
      "torch.Size([16, 32, 513, 25])\n",
      "torch.Size([16, 16, 513, 25])\n",
      "torch.Size([16, 16, 171, 8])\n",
      "torch.Size([16, 64, 171, 8])\n",
      "torch.Size([16, 16, 171, 8])\n",
      "torch.Size([16, 16, 57, 2])\n",
      "torch.Size([16, 1824])\n",
      "torch.Size([16, 128])\n",
      "torch.Size([16, 513])\n",
      "torch.Size([16, 1, 513, 25])\n",
      "torch.Size([16, 32, 513, 25])\n",
      "torch.Size([16, 16, 513, 25])\n",
      "torch.Size([16, 16, 171, 8])\n",
      "torch.Size([16, 64, 171, 8])\n",
      "torch.Size([16, 16, 171, 8])\n",
      "torch.Size([16, 16, 57, 2])\n",
      "torch.Size([16, 1824])\n",
      "torch.Size([16, 128])\n",
      "torch.Size([16, 513])\n",
      "torch.Size([16, 1, 513, 25])\n",
      "torch.Size([16, 32, 513, 25])\n",
      "torch.Size([16, 16, 513, 25])\n",
      "torch.Size([16, 16, 171, 8])\n",
      "torch.Size([16, 64, 171, 8])\n",
      "torch.Size([16, 16, 171, 8])\n",
      "torch.Size([16, 16, 57, 2])\n",
      "torch.Size([16, 1824])\n",
      "torch.Size([16, 128])\n",
      "torch.Size([16, 513])\n",
      "torch.Size([16, 1, 513, 25])\n",
      "torch.Size([16, 32, 513, 25])\n",
      "torch.Size([16, 16, 513, 25])\n",
      "torch.Size([16, 16, 171, 8])\n",
      "torch.Size([16, 64, 171, 8])\n",
      "torch.Size([16, 16, 171, 8])\n",
      "torch.Size([16, 16, 57, 2])\n",
      "torch.Size([16, 1824])\n",
      "torch.Size([16, 128])\n",
      "torch.Size([16, 513])\n",
      "torch.Size([16, 1, 513, 25])\n",
      "torch.Size([16, 32, 513, 25])\n",
      "torch.Size([16, 16, 513, 25])\n",
      "torch.Size([16, 16, 171, 8])\n",
      "torch.Size([16, 64, 171, 8])\n",
      "torch.Size([16, 16, 171, 8])\n",
      "torch.Size([16, 16, 57, 2])\n",
      "torch.Size([16, 1824])\n",
      "torch.Size([16, 128])\n",
      "torch.Size([16, 513])\n",
      "torch.Size([16, 1, 513, 25])\n",
      "torch.Size([16, 32, 513, 25])\n",
      "torch.Size([16, 16, 513, 25])\n",
      "torch.Size([16, 16, 171, 8])\n",
      "torch.Size([16, 64, 171, 8])\n",
      "torch.Size([16, 16, 171, 8])\n",
      "torch.Size([16, 16, 57, 2])\n",
      "torch.Size([16, 1824])\n",
      "torch.Size([16, 128])\n",
      "torch.Size([16, 513])\n",
      "torch.Size([16, 1, 513, 25])\n",
      "torch.Size([16, 32, 513, 25])\n",
      "torch.Size([16, 16, 513, 25])\n",
      "torch.Size([16, 16, 171, 8])\n",
      "torch.Size([16, 64, 171, 8])\n",
      "torch.Size([16, 16, 171, 8])\n",
      "torch.Size([16, 16, 57, 2])\n",
      "torch.Size([16, 1824])\n",
      "torch.Size([16, 128])\n",
      "torch.Size([16, 513])\n",
      "torch.Size([16, 1, 513, 25])\n",
      "torch.Size([16, 32, 513, 25])\n",
      "torch.Size([16, 16, 513, 25])\n",
      "torch.Size([16, 16, 171, 8])\n",
      "torch.Size([16, 64, 171, 8])\n",
      "torch.Size([16, 16, 171, 8])\n",
      "torch.Size([16, 16, 57, 2])\n",
      "torch.Size([16, 1824])\n",
      "torch.Size([16, 128])\n",
      "torch.Size([16, 513])\n"
     ]
    },
    {
     "name": "stderr",
     "output_type": "stream",
     "text": [
      "Epoch 39:   0%|          | 77/30402 [00:02<11:42, 43.16it/s, acc=0.951, loss=0.039, running_train_accuracy=0.942, running_train_loss=0.0468] "
     ]
    },
    {
     "name": "stdout",
     "output_type": "stream",
     "text": [
      "torch.Size([16, 1, 513, 25])\n",
      "torch.Size([16, 32, 513, 25])\n",
      "torch.Size([16, 16, 513, 25])\n",
      "torch.Size([16, 16, 171, 8])\n",
      "torch.Size([16, 64, 171, 8])\n",
      "torch.Size([16, 16, 171, 8])\n",
      "torch.Size([16, 16, 57, 2])\n",
      "torch.Size([16, 1824])\n",
      "torch.Size([16, 128])\n",
      "torch.Size([16, 513])\n",
      "torch.Size([16, 1, 513, 25])\n",
      "torch.Size([16, 32, 513, 25])\n",
      "torch.Size([16, 16, 513, 25])\n",
      "torch.Size([16, 16, 171, 8])\n",
      "torch.Size([16, 64, 171, 8])\n",
      "torch.Size([16, 16, 171, 8])\n",
      "torch.Size([16, 16, 57, 2])\n",
      "torch.Size([16, 1824])\n",
      "torch.Size([16, 128])\n",
      "torch.Size([16, 513])\n",
      "torch.Size([16, 1, 513, 25])\n",
      "torch.Size([16, 32, 513, 25])\n",
      "torch.Size([16, 16, 513, 25])\n",
      "torch.Size([16, 16, 171, 8])\n",
      "torch.Size([16, 64, 171, 8])\n",
      "torch.Size([16, 16, 171, 8])\n",
      "torch.Size([16, 16, 57, 2])\n",
      "torch.Size([16, 1824])\n",
      "torch.Size([16, 128])\n",
      "torch.Size([16, 513])\n",
      "torch.Size([16, 1, 513, 25])\n",
      "torch.Size([16, 32, 513, 25])\n",
      "torch.Size([16, 16, 513, 25])\n",
      "torch.Size([16, 16, 171, 8])\n",
      "torch.Size([16, 64, 171, 8])\n",
      "torch.Size([16, 16, 171, 8])\n",
      "torch.Size([16, 16, 57, 2])\n",
      "torch.Size([16, 1824])\n",
      "torch.Size([16, 128])\n",
      "torch.Size([16, 513])\n",
      "torch.Size([16, 1, 513, 25])\n",
      "torch.Size([16, 32, 513, 25])\n",
      "torch.Size([16, 16, 513, 25])\n",
      "torch.Size([16, 16, 171, 8])\n",
      "torch.Size([16, 64, 171, 8])\n",
      "torch.Size([16, 16, 171, 8])\n",
      "torch.Size([16, 16, 57, 2])\n",
      "torch.Size([16, 1824])\n",
      "torch.Size([16, 128])\n",
      "torch.Size([16, 513])\n",
      "torch.Size([16, 1, 513, 25])\n",
      "torch.Size([16, 32, 513, 25])\n",
      "torch.Size([16, 16, 513, 25])\n",
      "torch.Size([16, 16, 171, 8])\n",
      "torch.Size([16, 64, 171, 8])\n",
      "torch.Size([16, 16, 171, 8])\n",
      "torch.Size([16, 16, 57, 2])\n",
      "torch.Size([16, 1824])\n",
      "torch.Size([16, 128])\n",
      "torch.Size([16, 513])\n",
      "torch.Size([16, 1, 513, 25])\n",
      "torch.Size([16, 32, 513, 25])\n",
      "torch.Size([16, 16, 513, 25])\n",
      "torch.Size([16, 16, 171, 8])\n",
      "torch.Size([16, 64, 171, 8])\n",
      "torch.Size([16, 16, 171, 8])\n",
      "torch.Size([16, 16, 57, 2])\n",
      "torch.Size([16, 1824])\n",
      "torch.Size([16, 128])\n",
      "torch.Size([16, 513])\n",
      "torch.Size([16, 1, 513, 25])\n",
      "torch.Size([16, 32, 513, 25])\n",
      "torch.Size([16, 16, 513, 25])\n",
      "torch.Size([16, 16, 171, 8])\n",
      "torch.Size([16, 64, 171, 8])\n",
      "torch.Size([16, 16, 171, 8])\n",
      "torch.Size([16, 16, 57, 2])\n",
      "torch.Size([16, 1824])\n",
      "torch.Size([16, 128])\n",
      "torch.Size([16, 513])\n",
      "torch.Size([16, 1, 513, 25])\n",
      "torch.Size([16, 32, 513, 25])\n",
      "torch.Size([16, 16, 513, 25])\n",
      "torch.Size([16, 16, 171, 8])\n",
      "torch.Size([16, 64, 171, 8])\n",
      "torch.Size([16, 16, 171, 8])\n",
      "torch.Size([16, 16, 57, 2])\n",
      "torch.Size([16, 1824])\n",
      "torch.Size([16, 128])\n",
      "torch.Size([16, 513])\n"
     ]
    },
    {
     "name": "stderr",
     "output_type": "stream",
     "text": [
      "Epoch 39:   0%|          | 83/30402 [00:02<13:09, 38.43it/s, acc=0.965, loss=0.0284, running_train_accuracy=0.942, running_train_loss=0.046] \n"
     ]
    },
    {
     "name": "stdout",
     "output_type": "stream",
     "text": [
      "torch.Size([16, 1, 513, 25])\n",
      "torch.Size([16, 32, 513, 25])\n",
      "torch.Size([16, 16, 513, 25])\n",
      "torch.Size([16, 16, 171, 8])\n",
      "torch.Size([16, 64, 171, 8])\n",
      "torch.Size([16, 16, 171, 8])\n",
      "torch.Size([16, 16, 57, 2])\n",
      "torch.Size([16, 1824])\n",
      "torch.Size([16, 128])\n",
      "torch.Size([16, 513])\n",
      "torch.Size([16, 1, 513, 25])\n",
      "torch.Size([16, 32, 513, 25])\n",
      "torch.Size([16, 16, 513, 25])\n",
      "torch.Size([16, 16, 171, 8])\n",
      "torch.Size([16, 64, 171, 8])\n",
      "torch.Size([16, 16, 171, 8])\n",
      "torch.Size([16, 16, 57, 2])\n",
      "torch.Size([16, 1824])\n",
      "torch.Size([16, 128])\n",
      "torch.Size([16, 513])\n",
      "torch.Size([16, 1, 513, 25])\n",
      "torch.Size([16, 32, 513, 25])\n",
      "torch.Size([16, 16, 513, 25])\n",
      "torch.Size([16, 16, 171, 8])\n",
      "torch.Size([16, 64, 171, 8])\n",
      "torch.Size([16, 16, 171, 8])\n",
      "torch.Size([16, 16, 57, 2])\n",
      "torch.Size([16, 1824])\n",
      "torch.Size([16, 128])\n",
      "torch.Size([16, 513])\n"
     ]
    },
    {
     "ename": "KeyboardInterrupt",
     "evalue": "",
     "output_type": "error",
     "traceback": [
      "\u001b[1;31m---------------------------------------------------------------------------\u001b[0m",
      "\u001b[1;31mKeyboardInterrupt\u001b[0m                         Traceback (most recent call last)",
      "Cell \u001b[1;32mIn[68], line 14\u001b[0m\n\u001b[0;32m     12\u001b[0m \u001b[38;5;28;01mwith\u001b[39;00m tqdm(train_dataloader) \u001b[38;5;28;01mas\u001b[39;00m bar:\n\u001b[0;32m     13\u001b[0m     bar\u001b[38;5;241m.\u001b[39mset_description(\u001b[38;5;124mf\u001b[39m\u001b[38;5;124m\"\u001b[39m\u001b[38;5;124mEpoch \u001b[39m\u001b[38;5;132;01m{\u001b[39;00mepoch\u001b[38;5;132;01m}\u001b[39;00m\u001b[38;5;124m\"\u001b[39m)\n\u001b[1;32m---> 14\u001b[0m     \u001b[38;5;28;01mfor\u001b[39;00m batch \u001b[38;5;129;01min\u001b[39;00m bar:\n\u001b[0;32m     15\u001b[0m         \u001b[38;5;66;03m# take a batch\u001b[39;00m\n\u001b[0;32m     16\u001b[0m         inputs, labels \u001b[38;5;241m=\u001b[39m batch \n\u001b[0;32m     17\u001b[0m         inputs, labels \u001b[38;5;241m=\u001b[39m inputs\u001b[38;5;241m.\u001b[39mto(device), labels\u001b[38;5;241m.\u001b[39mto(device)\n",
      "File \u001b[1;32m~\\anaconda3\\lib\\site-packages\\tqdm\\std.py:1178\u001b[0m, in \u001b[0;36mtqdm.__iter__\u001b[1;34m(self)\u001b[0m\n\u001b[0;32m   1175\u001b[0m time \u001b[38;5;241m=\u001b[39m \u001b[38;5;28mself\u001b[39m\u001b[38;5;241m.\u001b[39m_time\n\u001b[0;32m   1177\u001b[0m \u001b[38;5;28;01mtry\u001b[39;00m:\n\u001b[1;32m-> 1178\u001b[0m     \u001b[38;5;28;01mfor\u001b[39;00m obj \u001b[38;5;129;01min\u001b[39;00m iterable:\n\u001b[0;32m   1179\u001b[0m         \u001b[38;5;28;01myield\u001b[39;00m obj\n\u001b[0;32m   1180\u001b[0m         \u001b[38;5;66;03m# Update and possibly print the progressbar.\u001b[39;00m\n\u001b[0;32m   1181\u001b[0m         \u001b[38;5;66;03m# Note: does not call self.update(1) for speed optimisation.\u001b[39;00m\n",
      "File \u001b[1;32m~\\anaconda3\\lib\\site-packages\\torch\\utils\\data\\dataloader.py:630\u001b[0m, in \u001b[0;36m_BaseDataLoaderIter.__next__\u001b[1;34m(self)\u001b[0m\n\u001b[0;32m    627\u001b[0m \u001b[38;5;28;01mif\u001b[39;00m \u001b[38;5;28mself\u001b[39m\u001b[38;5;241m.\u001b[39m_sampler_iter \u001b[38;5;129;01mis\u001b[39;00m \u001b[38;5;28;01mNone\u001b[39;00m:\n\u001b[0;32m    628\u001b[0m     \u001b[38;5;66;03m# TODO(https://github.com/pytorch/pytorch/issues/76750)\u001b[39;00m\n\u001b[0;32m    629\u001b[0m     \u001b[38;5;28mself\u001b[39m\u001b[38;5;241m.\u001b[39m_reset()  \u001b[38;5;66;03m# type: ignore[call-arg]\u001b[39;00m\n\u001b[1;32m--> 630\u001b[0m data \u001b[38;5;241m=\u001b[39m \u001b[38;5;28;43mself\u001b[39;49m\u001b[38;5;241;43m.\u001b[39;49m\u001b[43m_next_data\u001b[49m\u001b[43m(\u001b[49m\u001b[43m)\u001b[49m\n\u001b[0;32m    631\u001b[0m \u001b[38;5;28mself\u001b[39m\u001b[38;5;241m.\u001b[39m_num_yielded \u001b[38;5;241m+\u001b[39m\u001b[38;5;241m=\u001b[39m \u001b[38;5;241m1\u001b[39m\n\u001b[0;32m    632\u001b[0m \u001b[38;5;28;01mif\u001b[39;00m \u001b[38;5;28mself\u001b[39m\u001b[38;5;241m.\u001b[39m_dataset_kind \u001b[38;5;241m==\u001b[39m _DatasetKind\u001b[38;5;241m.\u001b[39mIterable \u001b[38;5;129;01mand\u001b[39;00m \\\n\u001b[0;32m    633\u001b[0m         \u001b[38;5;28mself\u001b[39m\u001b[38;5;241m.\u001b[39m_IterableDataset_len_called \u001b[38;5;129;01mis\u001b[39;00m \u001b[38;5;129;01mnot\u001b[39;00m \u001b[38;5;28;01mNone\u001b[39;00m \u001b[38;5;129;01mand\u001b[39;00m \\\n\u001b[0;32m    634\u001b[0m         \u001b[38;5;28mself\u001b[39m\u001b[38;5;241m.\u001b[39m_num_yielded \u001b[38;5;241m>\u001b[39m \u001b[38;5;28mself\u001b[39m\u001b[38;5;241m.\u001b[39m_IterableDataset_len_called:\n",
      "File \u001b[1;32m~\\anaconda3\\lib\\site-packages\\torch\\utils\\data\\dataloader.py:674\u001b[0m, in \u001b[0;36m_SingleProcessDataLoaderIter._next_data\u001b[1;34m(self)\u001b[0m\n\u001b[0;32m    672\u001b[0m \u001b[38;5;28;01mdef\u001b[39;00m \u001b[38;5;21m_next_data\u001b[39m(\u001b[38;5;28mself\u001b[39m):\n\u001b[0;32m    673\u001b[0m     index \u001b[38;5;241m=\u001b[39m \u001b[38;5;28mself\u001b[39m\u001b[38;5;241m.\u001b[39m_next_index()  \u001b[38;5;66;03m# may raise StopIteration\u001b[39;00m\n\u001b[1;32m--> 674\u001b[0m     data \u001b[38;5;241m=\u001b[39m \u001b[38;5;28;43mself\u001b[39;49m\u001b[38;5;241;43m.\u001b[39;49m\u001b[43m_dataset_fetcher\u001b[49m\u001b[38;5;241;43m.\u001b[39;49m\u001b[43mfetch\u001b[49m\u001b[43m(\u001b[49m\u001b[43mindex\u001b[49m\u001b[43m)\u001b[49m  \u001b[38;5;66;03m# may raise StopIteration\u001b[39;00m\n\u001b[0;32m    675\u001b[0m     \u001b[38;5;28;01mif\u001b[39;00m \u001b[38;5;28mself\u001b[39m\u001b[38;5;241m.\u001b[39m_pin_memory:\n\u001b[0;32m    676\u001b[0m         data \u001b[38;5;241m=\u001b[39m _utils\u001b[38;5;241m.\u001b[39mpin_memory\u001b[38;5;241m.\u001b[39mpin_memory(data, \u001b[38;5;28mself\u001b[39m\u001b[38;5;241m.\u001b[39m_pin_memory_device)\n",
      "File \u001b[1;32m~\\anaconda3\\lib\\site-packages\\torch\\utils\\data\\_utils\\fetch.py:51\u001b[0m, in \u001b[0;36m_MapDatasetFetcher.fetch\u001b[1;34m(self, possibly_batched_index)\u001b[0m\n\u001b[0;32m     49\u001b[0m         data \u001b[38;5;241m=\u001b[39m \u001b[38;5;28mself\u001b[39m\u001b[38;5;241m.\u001b[39mdataset\u001b[38;5;241m.\u001b[39m__getitems__(possibly_batched_index)\n\u001b[0;32m     50\u001b[0m     \u001b[38;5;28;01melse\u001b[39;00m:\n\u001b[1;32m---> 51\u001b[0m         data \u001b[38;5;241m=\u001b[39m [\u001b[38;5;28mself\u001b[39m\u001b[38;5;241m.\u001b[39mdataset[idx] \u001b[38;5;28;01mfor\u001b[39;00m idx \u001b[38;5;129;01min\u001b[39;00m possibly_batched_index]\n\u001b[0;32m     52\u001b[0m \u001b[38;5;28;01melse\u001b[39;00m:\n\u001b[0;32m     53\u001b[0m     data \u001b[38;5;241m=\u001b[39m \u001b[38;5;28mself\u001b[39m\u001b[38;5;241m.\u001b[39mdataset[possibly_batched_index]\n",
      "File \u001b[1;32m~\\anaconda3\\lib\\site-packages\\torch\\utils\\data\\_utils\\fetch.py:51\u001b[0m, in \u001b[0;36m<listcomp>\u001b[1;34m(.0)\u001b[0m\n\u001b[0;32m     49\u001b[0m         data \u001b[38;5;241m=\u001b[39m \u001b[38;5;28mself\u001b[39m\u001b[38;5;241m.\u001b[39mdataset\u001b[38;5;241m.\u001b[39m__getitems__(possibly_batched_index)\n\u001b[0;32m     50\u001b[0m     \u001b[38;5;28;01melse\u001b[39;00m:\n\u001b[1;32m---> 51\u001b[0m         data \u001b[38;5;241m=\u001b[39m [\u001b[38;5;28;43mself\u001b[39;49m\u001b[38;5;241;43m.\u001b[39;49m\u001b[43mdataset\u001b[49m\u001b[43m[\u001b[49m\u001b[43midx\u001b[49m\u001b[43m]\u001b[49m \u001b[38;5;28;01mfor\u001b[39;00m idx \u001b[38;5;129;01min\u001b[39;00m possibly_batched_index]\n\u001b[0;32m     52\u001b[0m \u001b[38;5;28;01melse\u001b[39;00m:\n\u001b[0;32m     53\u001b[0m     data \u001b[38;5;241m=\u001b[39m \u001b[38;5;28mself\u001b[39m\u001b[38;5;241m.\u001b[39mdataset[possibly_batched_index]\n",
      "Cell \u001b[1;32mIn[14], line 26\u001b[0m, in \u001b[0;36mCustomRegressionDataset.__getitem__\u001b[1;34m(self, idx)\u001b[0m\n\u001b[0;32m     17\u001b[0m \u001b[38;5;66;03m# Assuming X is a NumPy array\u001b[39;00m\n\u001b[0;32m     18\u001b[0m \u001b[38;5;66;03m#X_2d = X.reshape(-1, X.shape[-1])\u001b[39;00m\n\u001b[0;32m     19\u001b[0m \u001b[38;5;66;03m#X_2d = self.scaler.transform(X_2d)\u001b[39;00m\n\u001b[0;32m     20\u001b[0m \u001b[38;5;66;03m#X = X_2d.reshape(X.shape[:-1] + (-1,))\u001b[39;00m\n\u001b[0;32m     21\u001b[0m \u001b[38;5;66;03m#X = self.scaler.fit_transform(X)\u001b[39;00m\n\u001b[0;32m     22\u001b[0m \u001b[38;5;66;03m# Convert to PyTorch tensors\u001b[39;00m\n\u001b[0;32m     25\u001b[0m X_dev \u001b[38;5;241m=\u001b[39m torch\u001b[38;5;241m.\u001b[39mFloatTensor(X)\u001b[38;5;241m.\u001b[39mto(device)\n\u001b[1;32m---> 26\u001b[0m Y_dev \u001b[38;5;241m=\u001b[39m \u001b[43mtorch\u001b[49m\u001b[38;5;241;43m.\u001b[39;49m\u001b[43mFloatTensor\u001b[49m\u001b[43m(\u001b[49m\u001b[43mY\u001b[49m\u001b[43m)\u001b[49m\u001b[38;5;241;43m.\u001b[39;49m\u001b[43mto\u001b[49m\u001b[43m(\u001b[49m\u001b[43mdevice\u001b[49m\u001b[43m)\u001b[49m\n\u001b[0;32m     28\u001b[0m torch\u001b[38;5;241m.\u001b[39mcuda\u001b[38;5;241m.\u001b[39mempty_cache()\n\u001b[0;32m     29\u001b[0m \u001b[38;5;28;01mreturn\u001b[39;00m X_dev, Y_dev\n",
      "\u001b[1;31mKeyboardInterrupt\u001b[0m: "
     ]
    }
   ],
   "source": [
    "for epoch in range(start_epoch, num_epochs+1):\n",
    "    model.train()  # Set the model to training mode\n",
    "    running_train_loss = 0.0\n",
    "    running_val_loss = 0.0\n",
    "    \n",
    "    running_train_accuracy = 0.0\n",
    "    running_val_accuracy = 0.0\n",
    "    \n",
    "    predicted_labels = torch.Tensor().to(device)\n",
    "    true_labels = torch.Tensor().to(device)\n",
    "\n",
    "    with tqdm(train_dataloader) as bar:\n",
    "        bar.set_description(f\"Epoch {epoch}\")\n",
    "        for batch in bar:\n",
    "            # take a batch\n",
    "            inputs, labels = batch \n",
    "            inputs, labels = inputs.to(device), labels.to(device)\n",
    "\n",
    "            # forward pass\n",
    "            outputs = model(inputs)\n",
    "            loss = criterion(outputs, labels)\n",
    "\n",
    "            # backward pass\n",
    "            optimizer.zero_grad()\n",
    "            loss.backward()\n",
    "\n",
    "            # update weights\n",
    "            optimizer.step()\n",
    "\n",
    "            # print progress\n",
    "            running_train_loss += loss.item()\n",
    "            acc = (outputs.round() == labels).float().mean()\n",
    "\n",
    "            predicted_labels = torch.cat((predicted_labels, outputs), dim=0)\n",
    "            true_labels = torch.cat((true_labels, labels), dim=0)\n",
    "\n",
    "            running_train_accuracy = (predicted_labels.round() == true_labels).float().mean().cpu().item()\n",
    "\n",
    "            torch.cuda.empty_cache()\n",
    "            #print(predicted_labels)\n",
    "\n",
    "            bar.set_postfix(\n",
    "                loss=float(loss),\n",
    "                acc=float(acc),\n",
    "                running_train_accuracy=float(running_train_accuracy),\n",
    "                running_train_loss=float(running_train_loss / (bar.n + 1))\n",
    "            )\n",
    "\n",
    "    train_acc_hist.append(running_train_accuracy)\n",
    "    train_loss_hist.append(running_train_loss/len(train_dataloader))\n",
    "\n",
    "    del predicted_labels, true_labels\n",
    "    torch.cuda.empty_cache()\n",
    "\n",
    "    predicted_labels = torch.Tensor().to(device)\n",
    "    true_labels = torch.Tensor().to(device)\n",
    "\n",
    "    torch.cuda.empty_cache()\n",
    "\n",
    "    with torch.no_grad():\n",
    "        model.eval()\n",
    "        with tqdm(val_dataloader) as bar:\n",
    "            bar.set_description(f\"Validation\")\n",
    "            for batch in bar:\n",
    "                # take a batch\n",
    "                inputs, labels = batch \n",
    "                inputs, labels = inputs.to(device), labels.to(device)  \n",
    "\n",
    "                # forward pass\n",
    "                outputs = model(inputs)\n",
    "                val_loss = criterion(outputs, labels)\n",
    "\n",
    "                # print progress\n",
    "                running_val_loss += val_loss.item()\n",
    "                val_acc = (outputs.round() == labels).float().mean()\n",
    "\n",
    "                predicted_labels = torch.cat((predicted_labels, outputs), dim=0)\n",
    "                true_labels = torch.cat((true_labels, labels), dim=0)\n",
    "\n",
    "                running_val_accuracy = (predicted_labels.round() == true_labels).float().mean().cpu().item()\n",
    "\n",
    "                torch.cuda.empty_cache()\n",
    "\n",
    "                bar.set_postfix(\n",
    "                    loss=float(val_loss),\n",
    "                    acc=float(val_acc),\n",
    "                    running_val_accuracy=float(running_val_accuracy),\n",
    "                    running_val_loss=float(running_val_loss / (bar.n + 1))\n",
    "                )\n",
    "\n",
    "    valid_acc_hist.append(running_val_accuracy)\n",
    "    valid_loss_hist.append(running_val_loss/len(val_dataloader))\n",
    "\n",
    "    del predicted_labels, true_labels\n",
    "    torch.cuda.empty_cache()\n",
    "    \n",
    "    #test_loop(test_data, 'MIXTURE_STFT_SPEC_FRAME', 'VOCALS_STFT_MASK')\n",
    "    scheduler.step()\n",
    "\n",
    "    if epoch%2==0:\n",
    "        checkpoint = {\n",
    "            'epoch': epoch + 1,\n",
    "            'state_dict': model.state_dict(),\n",
    "            'optimizer': optimizer.state_dict()\n",
    "        }\n",
    "        save_ckp(checkpoint, 'checkpoints/regression/bass/'+str(epoch)+'_checkpoint.pt')\n",
    "        torch.cuda.empty_cache()\n",
    "        save_history(train_acc_hist, train_loss_hist, valid_acc_hist, valid_loss_hist, 'checkpoints/regression/bass/')\n",
    "        torch.cuda.empty_cache()\n",
    "        plot_history(train_acc_hist, train_loss_hist, valid_acc_hist, valid_loss_hist, 'checkpoints/regression/bass/')\n",
    "        torch.cuda.empty_cache()\n",
    "\n",
    "print(\"Training complete\")"
   ]
  },
  {
   "cell_type": "code",
   "execution_count": 52,
   "id": "bc337714",
   "metadata": {},
   "outputs": [],
   "source": [
    "torch.cuda.empty_cache()"
   ]
  },
  {
   "cell_type": "code",
   "execution_count": 43,
   "id": "bcafa060",
   "metadata": {},
   "outputs": [],
   "source": [
    "torch.save(model.state_dict(), 'complete_model.pth')"
   ]
  }
 ],
 "metadata": {
  "kernelspec": {
   "display_name": "Python 3 (ipykernel)",
   "language": "python",
   "name": "python3"
  },
  "language_info": {
   "codemirror_mode": {
    "name": "ipython",
    "version": 3
   },
   "file_extension": ".py",
   "mimetype": "text/x-python",
   "name": "python",
   "nbconvert_exporter": "python",
   "pygments_lexer": "ipython3",
   "version": "3.10.13"
  }
 },
 "nbformat": 4,
 "nbformat_minor": 5
}
